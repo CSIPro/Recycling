{
 "cells": [
  {
   "cell_type": "code",
   "execution_count": 1,
   "metadata": {},
   "outputs": [],
   "source": [
    "import pandas as pd\n",
    "import numpy as np\n",
    "import os\n",
    "from sklearn.cluster import KMeans\n",
    "from sklearn.preprocessing import StandardScaler\n",
    "from sklearn.datasets import make_blobs\n",
    "from sklearn.metrics import silhouette_score\n",
    "from sklearn.decomposition import PCA\n",
    "import matplotlib.pyplot as plt\n",
    "import matplotlib.patches as mpatches\n",
    "os.environ[\"OMP_NUM_THREADS\"] = \"5\""
   ]
  },
  {
   "cell_type": "code",
   "execution_count": 2,
   "metadata": {},
   "outputs": [
    {
     "data": {
      "application/vnd.microsoft.datawrangler.viewer.v0+json": {
       "columns": [
        {
         "name": "index",
         "rawType": "int64",
         "type": "integer"
        },
        {
         "name": "WKT",
         "rawType": "object",
         "type": "string"
        },
        {
         "name": "name",
         "rawType": "object",
         "type": "string"
        }
       ],
       "conversionMethod": "pd.DataFrame",
       "ref": "b2ee3097-85c3-4d8d-a8d4-d57a76474604",
       "rows": [
        [
         "0",
         "POINT (-118.3514773 34.0412734)",
         "A1 Electronic Recycling,"
        ],
        [
         "1",
         "POINT (-118.42281 34.204152)",
         "eWaste U.S. Electronics Recycling,"
        ],
        [
         "2",
         "POINT (-118.6000354 34.2135694)",
         "CAL E-WASTE RECYCLE LLC,"
        ],
        [
         "3",
         "POINT (-118.4856892 34.2018167)",
         "E -Waste LA (Data Destruction Company),"
        ],
        [
         "4",
         "POINT (-118.4168123 34.2606906)",
         "pasadena tech recycle inc,"
        ],
        [
         "5",
         "POINT (-117.8384794 33.7239286)",
         "TechWaste Recycling Inc.,"
        ],
        [
         "6",
         "POINT (-117.2649496 33.21388990000001)",
         "Electronic Waste Recycling Facility ECC, Inc.,"
        ],
        [
         "7",
         "POINT (-119.7768516 36.6877343)",
         "ERI - Electronic Recyclers International,"
        ],
        [
         "8",
         "POINT (-80.25504 25.824448)",
         "Electronic Recycling Center,"
        ],
        [
         "9",
         "POINT (-84.22738559999999 33.93449200000001)",
         "eWaste ePlanet | Electronics Recycling, Data Destruction and ITAD Services,"
        ],
        [
         "10",
         "POINT (-117.1002034 32.6542829)",
         "Dream Electronic Recycling FREE E-WASTE DROP OFF \\ PICK UP South Bay,"
        ],
        [
         "11",
         "POINT (-118.3446513 34.0893835)",
         "Electronics Recycling (Best Buy),"
        ],
        [
         "12",
         "POINT (-118.2590119 34.0891616)",
         "Glendale Recycling Center,"
        ],
        [
         "13",
         "POINT (-118.2113685 33.7853098)",
         "Secure E-Waste Destruction,"
        ],
        [
         "14",
         "POINT (-117.6720809 33.6645622)",
         "Green Leaf Electronic & E-Waste Recycling,"
        ],
        [
         "15",
         "POINT (-118.4301037 34.2133371)",
         "Surplus Recycling,"
        ],
        [
         "16",
         "POINT (-121.8835752 37.4108362)",
         "Green Ewaste Recycling Center,"
        ],
        [
         "17",
         "POINT (-112.0703562 33.69593819999999)",
         "Global Electronic Recycling,"
        ],
        [
         "18",
         "POINT (-111.9121508 33.61743429999999)",
         "Arizona Electronic Recycle,"
        ],
        [
         "19",
         "POINT (-111.83506 33.408256)",
         "Broadway Indoor Recycling Center,"
        ],
        [
         "20",
         "POINT (-111.9576981 33.40098529999999)",
         "TechRec Recycling - Electronics Recycling,"
        ],
        [
         "21",
         "POINT (-112.0039701 33.3921363)",
         "Tree of Life - Electronic Recycling,"
        ],
        [
         "22",
         "POINT (-111.5404725 33.38042889999999)",
         "EVT Recycling,"
        ],
        [
         "23",
         "POINT (-112.0645515 33.4454075)",
         "Westech Recyclers,"
        ],
        [
         "24",
         "POINT (-112.1047416 33.4718324)",
         "Agape Computer and Electronics Recycling,"
        ],
        [
         "25",
         "POINT (-112.1308215 33.46679199999999)",
         "Electronic Recycling LLC,"
        ],
        [
         "26",
         "POINT (-112.1339227 33.4855538)",
         "EWS | Electronics Recycling Service,"
        ],
        [
         "27",
         "POINT (-106.601978 35.1617606)",
         "Albuquerque Computer & Electronics Recycling Co,"
        ],
        [
         "28",
         "POINT (-103.1959892 34.3923748)",
         "Ed's Recycling Center, Inc,"
        ],
        [
         "29",
         "POINT (-106.8174961 32.2945612)",
         "Las Cruces Recycling Center,"
        ],
        [
         "30",
         "POINT (-106.0364449 35.6347131)",
         "Lucia Lane Recycling Center,"
        ],
        [
         "31",
         "POINT (-105.9790191 35.6932067)",
         "Santa Fe Solid Waste Management Agency’s,"
        ],
        [
         "32",
         "POINT (-105.9377966 35.6869812)",
         "New Mexico Recycling Coalition,"
        ],
        [
         "33",
         "POINT (-106.6611384 35.191613)",
         "E-Tech Recycle,"
        ],
        [
         "34",
         "POINT (-106.64444 35.1023042)",
         "W Silver Recycling, Inc. - Albuquerque,"
        ],
        [
         "35",
         "POINT (-106.6291918 35.1352197)",
         "Earth Day Recycling Co,"
        ],
        [
         "36",
         "POINT (-96.7690561 32.8838551)",
         "STS Electronic Recycling,"
        ],
        [
         "37",
         "POINT (-96.8273538 33.15346510000001)",
         "Frisco Environmental Collection Center,"
        ],
        [
         "38",
         "POINT (-97.00398419999999 32.9430407)",
         "United Electronic Recycling,"
        ],
        [
         "39",
         "POINT (-96.8946619 32.8771697)",
         "E-Cycle Enterprises,"
        ],
        [
         "40",
         "POINT (-96.8780134 32.8618783)",
         "Texas Electronics Recycling,"
        ],
        [
         "41",
         "POINT (-97.73817129999999 30.2132704)",
         "Austin Recycle & Reuse Drop-off Center,"
        ],
        [
         "42",
         "POINT (-95.58273899999999 29.9389734)",
         "Texas Electronic Recyclers,"
        ],
        [
         "43",
         "POINT (-95.4458264 29.819112)",
         "E & E Electronics recycling,"
        ],
        [
         "44",
         "POINT (-95.6037848 29.6224713)",
         "STS Electronics Recycling Sugar Land,"
        ],
        [
         "45",
         "POINT (-95.6237116 29.6702434)",
         "EverTrade Electronics Recycling Center,"
        ],
        [
         "46",
         "POINT (-115.162006 36.1497229)",
         "Nevada State Recycle,"
        ],
        [
         "47",
         "POINT (-115.0214283 36.0634525)",
         "Nevada Recycling,"
        ],
        [
         "48",
         "POINT (-115.129013 35.98764799999999)",
         "PedalPoint evTerra Recycling,"
        ],
        [
         "49",
         "POINT (-115.193616 36.0451545)",
         "Advanced Technology Recycling (ATR),"
        ]
       ],
       "shape": {
        "columns": 2,
        "rows": 64
       }
      },
      "text/html": [
       "<div>\n",
       "<style scoped>\n",
       "    .dataframe tbody tr th:only-of-type {\n",
       "        vertical-align: middle;\n",
       "    }\n",
       "\n",
       "    .dataframe tbody tr th {\n",
       "        vertical-align: top;\n",
       "    }\n",
       "\n",
       "    .dataframe thead th {\n",
       "        text-align: right;\n",
       "    }\n",
       "</style>\n",
       "<table border=\"1\" class=\"dataframe\">\n",
       "  <thead>\n",
       "    <tr style=\"text-align: right;\">\n",
       "      <th></th>\n",
       "      <th>WKT</th>\n",
       "      <th>name</th>\n",
       "    </tr>\n",
       "  </thead>\n",
       "  <tbody>\n",
       "    <tr>\n",
       "      <th>0</th>\n",
       "      <td>POINT (-118.3514773 34.0412734)</td>\n",
       "      <td>A1 Electronic Recycling,</td>\n",
       "    </tr>\n",
       "    <tr>\n",
       "      <th>1</th>\n",
       "      <td>POINT (-118.42281 34.204152)</td>\n",
       "      <td>eWaste U.S. Electronics Recycling,</td>\n",
       "    </tr>\n",
       "    <tr>\n",
       "      <th>2</th>\n",
       "      <td>POINT (-118.6000354 34.2135694)</td>\n",
       "      <td>CAL E-WASTE RECYCLE LLC,</td>\n",
       "    </tr>\n",
       "    <tr>\n",
       "      <th>3</th>\n",
       "      <td>POINT (-118.4856892 34.2018167)</td>\n",
       "      <td>E -Waste LA (Data Destruction Company),</td>\n",
       "    </tr>\n",
       "    <tr>\n",
       "      <th>4</th>\n",
       "      <td>POINT (-118.4168123 34.2606906)</td>\n",
       "      <td>pasadena tech recycle inc,</td>\n",
       "    </tr>\n",
       "    <tr>\n",
       "      <th>...</th>\n",
       "      <td>...</td>\n",
       "      <td>...</td>\n",
       "    </tr>\n",
       "    <tr>\n",
       "      <th>59</th>\n",
       "      <td>POINT (-115.129013 35.987648)</td>\n",
       "      <td>PedalPoint evTerra Recycling,</td>\n",
       "    </tr>\n",
       "    <tr>\n",
       "      <th>60</th>\n",
       "      <td>POINT (-115.1854335 36.078715)</td>\n",
       "      <td>BB Recycling,</td>\n",
       "    </tr>\n",
       "    <tr>\n",
       "      <th>61</th>\n",
       "      <td>POINT (-115.0950232 36.2437766)</td>\n",
       "      <td>Nevada Recycling,</td>\n",
       "    </tr>\n",
       "    <tr>\n",
       "      <th>62</th>\n",
       "      <td>POINT (-115.193616 36.0451545)</td>\n",
       "      <td>Advanced Technology Recycling (ATR),</td>\n",
       "    </tr>\n",
       "    <tr>\n",
       "      <th>63</th>\n",
       "      <td>POINT (-115.1773029 36.1340222)</td>\n",
       "      <td>Dunn &amp; Son-Electronic Recycler,</td>\n",
       "    </tr>\n",
       "  </tbody>\n",
       "</table>\n",
       "<p>64 rows × 2 columns</p>\n",
       "</div>"
      ],
      "text/plain": [
       "                                WKT                                     name\n",
       "0   POINT (-118.3514773 34.0412734)                 A1 Electronic Recycling,\n",
       "1      POINT (-118.42281 34.204152)       eWaste U.S. Electronics Recycling,\n",
       "2   POINT (-118.6000354 34.2135694)                 CAL E-WASTE RECYCLE LLC,\n",
       "3   POINT (-118.4856892 34.2018167)  E -Waste LA (Data Destruction Company),\n",
       "4   POINT (-118.4168123 34.2606906)               pasadena tech recycle inc,\n",
       "..                              ...                                      ...\n",
       "59    POINT (-115.129013 35.987648)            PedalPoint evTerra Recycling,\n",
       "60   POINT (-115.1854335 36.078715)                            BB Recycling,\n",
       "61  POINT (-115.0950232 36.2437766)                        Nevada Recycling,\n",
       "62   POINT (-115.193616 36.0451545)     Advanced Technology Recycling (ATR),\n",
       "63  POINT (-115.1773029 36.1340222)          Dunn & Son-Electronic Recycler,\n",
       "\n",
       "[64 rows x 2 columns]"
      ]
     },
     "execution_count": 2,
     "metadata": {},
     "output_type": "execute_result"
    }
   ],
   "source": [
    "df = pd.read_csv('./../CSVs/Battery and e-waste collection centers USA.csv')\n",
    "df"
   ]
  },
  {
   "cell_type": "code",
   "execution_count": 3,
   "metadata": {},
   "outputs": [
    {
     "data": {
      "application/vnd.microsoft.datawrangler.viewer.v0+json": {
       "columns": [
        {
         "name": "index",
         "rawType": "int64",
         "type": "integer"
        },
        {
         "name": "WKT",
         "rawType": "object",
         "type": "string"
        },
        {
         "name": "name",
         "rawType": "object",
         "type": "string"
        },
        {
         "name": "lon",
         "rawType": "float64",
         "type": "float"
        },
        {
         "name": "lat",
         "rawType": "float64",
         "type": "float"
        }
       ],
       "conversionMethod": "pd.DataFrame",
       "ref": "be6a9395-6701-4299-8f08-27caac38d985",
       "rows": [
        [
         "0",
         "POINT (-118.3514773 34.0412734)",
         "A1 Electronic Recycling,",
         "-118.3514773",
         "34.0412734"
        ],
        [
         "1",
         "POINT (-118.42281 34.204152)",
         "eWaste U.S. Electronics Recycling,",
         "-118.42281",
         "34.204152"
        ],
        [
         "2",
         "POINT (-118.6000354 34.2135694)",
         "CAL E-WASTE RECYCLE LLC,",
         "-118.6000354",
         "34.2135694"
        ],
        [
         "3",
         "POINT (-118.4856892 34.2018167)",
         "E -Waste LA (Data Destruction Company),",
         "-118.4856892",
         "34.2018167"
        ],
        [
         "4",
         "POINT (-118.4168123 34.2606906)",
         "pasadena tech recycle inc,",
         "-118.4168123",
         "34.2606906"
        ],
        [
         "5",
         "POINT (-117.8384794 33.7239286)",
         "TechWaste Recycling Inc.,",
         "-117.8384794",
         "33.7239286"
        ],
        [
         "6",
         "POINT (-117.2649496 33.21388990000001)",
         "Electronic Waste Recycling Facility ECC, Inc.,",
         "-117.2649496",
         "33.21388990000001"
        ],
        [
         "7",
         "POINT (-119.7768516 36.6877343)",
         "ERI - Electronic Recyclers International,",
         "-119.7768516",
         "36.6877343"
        ],
        [
         "8",
         "POINT (-80.25504 25.824448)",
         "Electronic Recycling Center,",
         "-80.25504",
         "25.824448"
        ],
        [
         "9",
         "POINT (-84.22738559999999 33.93449200000001)",
         "eWaste ePlanet | Electronics Recycling, Data Destruction and ITAD Services,",
         "-84.22738559999999",
         "33.93449200000001"
        ],
        [
         "10",
         "POINT (-117.1002034 32.6542829)",
         "Dream Electronic Recycling FREE E-WASTE DROP OFF \\ PICK UP South Bay,",
         "-117.1002034",
         "32.6542829"
        ],
        [
         "11",
         "POINT (-118.3446513 34.0893835)",
         "Electronics Recycling (Best Buy),",
         "-118.3446513",
         "34.0893835"
        ],
        [
         "12",
         "POINT (-118.2590119 34.0891616)",
         "Glendale Recycling Center,",
         "-118.2590119",
         "34.0891616"
        ],
        [
         "13",
         "POINT (-118.2113685 33.7853098)",
         "Secure E-Waste Destruction,",
         "-118.2113685",
         "33.7853098"
        ],
        [
         "14",
         "POINT (-117.6720809 33.6645622)",
         "Green Leaf Electronic & E-Waste Recycling,",
         "-117.6720809",
         "33.6645622"
        ],
        [
         "15",
         "POINT (-118.4301037 34.2133371)",
         "Surplus Recycling,",
         "-118.4301037",
         "34.2133371"
        ],
        [
         "16",
         "POINT (-121.8835752 37.4108362)",
         "Green Ewaste Recycling Center,",
         "-121.8835752",
         "37.4108362"
        ],
        [
         "17",
         "POINT (-112.0703562 33.69593819999999)",
         "Global Electronic Recycling,",
         "-112.0703562",
         "33.69593819999999"
        ],
        [
         "18",
         "POINT (-111.9121508 33.61743429999999)",
         "Arizona Electronic Recycle,",
         "-111.9121508",
         "33.61743429999999"
        ],
        [
         "19",
         "POINT (-111.83506 33.408256)",
         "Broadway Indoor Recycling Center,",
         "-111.83506",
         "33.408256"
        ],
        [
         "20",
         "POINT (-111.9576981 33.40098529999999)",
         "TechRec Recycling - Electronics Recycling,",
         "-111.9576981",
         "33.40098529999999"
        ],
        [
         "21",
         "POINT (-112.0039701 33.3921363)",
         "Tree of Life - Electronic Recycling,",
         "-112.0039701",
         "33.3921363"
        ],
        [
         "22",
         "POINT (-111.5404725 33.38042889999999)",
         "EVT Recycling,",
         "-111.5404725",
         "33.38042889999999"
        ],
        [
         "23",
         "POINT (-112.0645515 33.4454075)",
         "Westech Recyclers,",
         "-112.0645515",
         "33.4454075"
        ],
        [
         "24",
         "POINT (-112.1047416 33.4718324)",
         "Agape Computer and Electronics Recycling,",
         "-112.1047416",
         "33.4718324"
        ],
        [
         "25",
         "POINT (-112.1308215 33.46679199999999)",
         "Electronic Recycling LLC,",
         "-112.1308215",
         "33.46679199999999"
        ],
        [
         "26",
         "POINT (-112.1339227 33.4855538)",
         "EWS | Electronics Recycling Service,",
         "-112.1339227",
         "33.4855538"
        ],
        [
         "27",
         "POINT (-106.601978 35.1617606)",
         "Albuquerque Computer & Electronics Recycling Co,",
         "-106.601978",
         "35.1617606"
        ],
        [
         "28",
         "POINT (-103.1959892 34.3923748)",
         "Ed's Recycling Center, Inc,",
         "-103.1959892",
         "34.3923748"
        ],
        [
         "29",
         "POINT (-106.8174961 32.2945612)",
         "Las Cruces Recycling Center,",
         "-106.8174961",
         "32.2945612"
        ],
        [
         "30",
         "POINT (-106.0364449 35.6347131)",
         "Lucia Lane Recycling Center,",
         "-106.0364449",
         "35.6347131"
        ],
        [
         "31",
         "POINT (-105.9790191 35.6932067)",
         "Santa Fe Solid Waste Management Agency’s,",
         "-105.9790191",
         "35.6932067"
        ],
        [
         "32",
         "POINT (-105.9377966 35.6869812)",
         "New Mexico Recycling Coalition,",
         "-105.9377966",
         "35.6869812"
        ],
        [
         "33",
         "POINT (-106.6611384 35.191613)",
         "E-Tech Recycle,",
         "-106.6611384",
         "35.191613"
        ],
        [
         "34",
         "POINT (-106.64444 35.1023042)",
         "W Silver Recycling, Inc. - Albuquerque,",
         "-106.64444",
         "35.1023042"
        ],
        [
         "35",
         "POINT (-106.6291918 35.1352197)",
         "Earth Day Recycling Co,",
         "-106.6291918",
         "35.1352197"
        ],
        [
         "36",
         "POINT (-96.7690561 32.8838551)",
         "STS Electronic Recycling,",
         "-96.7690561",
         "32.8838551"
        ],
        [
         "37",
         "POINT (-96.8273538 33.15346510000001)",
         "Frisco Environmental Collection Center,",
         "-96.8273538",
         "33.15346510000001"
        ],
        [
         "38",
         "POINT (-97.00398419999999 32.9430407)",
         "United Electronic Recycling,",
         "-97.00398419999999",
         "32.9430407"
        ],
        [
         "39",
         "POINT (-96.8946619 32.8771697)",
         "E-Cycle Enterprises,",
         "-96.8946619",
         "32.8771697"
        ],
        [
         "40",
         "POINT (-96.8780134 32.8618783)",
         "Texas Electronics Recycling,",
         "-96.8780134",
         "32.8618783"
        ],
        [
         "41",
         "POINT (-97.73817129999999 30.2132704)",
         "Austin Recycle & Reuse Drop-off Center,",
         "-97.73817129999999",
         "30.2132704"
        ],
        [
         "42",
         "POINT (-95.58273899999999 29.9389734)",
         "Texas Electronic Recyclers,",
         "-95.58273899999999",
         "29.9389734"
        ],
        [
         "43",
         "POINT (-95.4458264 29.819112)",
         "E & E Electronics recycling,",
         "-95.4458264",
         "29.819112"
        ],
        [
         "44",
         "POINT (-95.6037848 29.6224713)",
         "STS Electronics Recycling Sugar Land,",
         "-95.6037848",
         "29.6224713"
        ],
        [
         "45",
         "POINT (-95.6237116 29.6702434)",
         "EverTrade Electronics Recycling Center,",
         "-95.6237116",
         "29.6702434"
        ],
        [
         "46",
         "POINT (-115.162006 36.1497229)",
         "Nevada State Recycle,",
         "-115.162006",
         "36.1497229"
        ],
        [
         "47",
         "POINT (-115.0214283 36.0634525)",
         "Nevada Recycling,",
         "-115.0214283",
         "36.0634525"
        ],
        [
         "48",
         "POINT (-115.129013 35.98764799999999)",
         "PedalPoint evTerra Recycling,",
         "-115.129013",
         "35.98764799999999"
        ],
        [
         "49",
         "POINT (-115.193616 36.0451545)",
         "Advanced Technology Recycling (ATR),",
         "-115.193616",
         "36.0451545"
        ]
       ],
       "shape": {
        "columns": 4,
        "rows": 64
       }
      },
      "text/html": [
       "<div>\n",
       "<style scoped>\n",
       "    .dataframe tbody tr th:only-of-type {\n",
       "        vertical-align: middle;\n",
       "    }\n",
       "\n",
       "    .dataframe tbody tr th {\n",
       "        vertical-align: top;\n",
       "    }\n",
       "\n",
       "    .dataframe thead th {\n",
       "        text-align: right;\n",
       "    }\n",
       "</style>\n",
       "<table border=\"1\" class=\"dataframe\">\n",
       "  <thead>\n",
       "    <tr style=\"text-align: right;\">\n",
       "      <th></th>\n",
       "      <th>WKT</th>\n",
       "      <th>name</th>\n",
       "      <th>lon</th>\n",
       "      <th>lat</th>\n",
       "    </tr>\n",
       "  </thead>\n",
       "  <tbody>\n",
       "    <tr>\n",
       "      <th>0</th>\n",
       "      <td>POINT (-118.3514773 34.0412734)</td>\n",
       "      <td>A1 Electronic Recycling,</td>\n",
       "      <td>-118.351477</td>\n",
       "      <td>34.041273</td>\n",
       "    </tr>\n",
       "    <tr>\n",
       "      <th>1</th>\n",
       "      <td>POINT (-118.42281 34.204152)</td>\n",
       "      <td>eWaste U.S. Electronics Recycling,</td>\n",
       "      <td>-118.422810</td>\n",
       "      <td>34.204152</td>\n",
       "    </tr>\n",
       "    <tr>\n",
       "      <th>2</th>\n",
       "      <td>POINT (-118.6000354 34.2135694)</td>\n",
       "      <td>CAL E-WASTE RECYCLE LLC,</td>\n",
       "      <td>-118.600035</td>\n",
       "      <td>34.213569</td>\n",
       "    </tr>\n",
       "    <tr>\n",
       "      <th>3</th>\n",
       "      <td>POINT (-118.4856892 34.2018167)</td>\n",
       "      <td>E -Waste LA (Data Destruction Company),</td>\n",
       "      <td>-118.485689</td>\n",
       "      <td>34.201817</td>\n",
       "    </tr>\n",
       "    <tr>\n",
       "      <th>4</th>\n",
       "      <td>POINT (-118.4168123 34.2606906)</td>\n",
       "      <td>pasadena tech recycle inc,</td>\n",
       "      <td>-118.416812</td>\n",
       "      <td>34.260691</td>\n",
       "    </tr>\n",
       "    <tr>\n",
       "      <th>...</th>\n",
       "      <td>...</td>\n",
       "      <td>...</td>\n",
       "      <td>...</td>\n",
       "      <td>...</td>\n",
       "    </tr>\n",
       "    <tr>\n",
       "      <th>59</th>\n",
       "      <td>POINT (-115.129013 35.987648)</td>\n",
       "      <td>PedalPoint evTerra Recycling,</td>\n",
       "      <td>-115.129013</td>\n",
       "      <td>35.987648</td>\n",
       "    </tr>\n",
       "    <tr>\n",
       "      <th>60</th>\n",
       "      <td>POINT (-115.1854335 36.078715)</td>\n",
       "      <td>BB Recycling,</td>\n",
       "      <td>-115.185434</td>\n",
       "      <td>36.078715</td>\n",
       "    </tr>\n",
       "    <tr>\n",
       "      <th>61</th>\n",
       "      <td>POINT (-115.0950232 36.2437766)</td>\n",
       "      <td>Nevada Recycling,</td>\n",
       "      <td>-115.095023</td>\n",
       "      <td>36.243777</td>\n",
       "    </tr>\n",
       "    <tr>\n",
       "      <th>62</th>\n",
       "      <td>POINT (-115.193616 36.0451545)</td>\n",
       "      <td>Advanced Technology Recycling (ATR),</td>\n",
       "      <td>-115.193616</td>\n",
       "      <td>36.045155</td>\n",
       "    </tr>\n",
       "    <tr>\n",
       "      <th>63</th>\n",
       "      <td>POINT (-115.1773029 36.1340222)</td>\n",
       "      <td>Dunn &amp; Son-Electronic Recycler,</td>\n",
       "      <td>-115.177303</td>\n",
       "      <td>36.134022</td>\n",
       "    </tr>\n",
       "  </tbody>\n",
       "</table>\n",
       "<p>64 rows × 4 columns</p>\n",
       "</div>"
      ],
      "text/plain": [
       "                                WKT                                     name  \\\n",
       "0   POINT (-118.3514773 34.0412734)                 A1 Electronic Recycling,   \n",
       "1      POINT (-118.42281 34.204152)       eWaste U.S. Electronics Recycling,   \n",
       "2   POINT (-118.6000354 34.2135694)                 CAL E-WASTE RECYCLE LLC,   \n",
       "3   POINT (-118.4856892 34.2018167)  E -Waste LA (Data Destruction Company),   \n",
       "4   POINT (-118.4168123 34.2606906)               pasadena tech recycle inc,   \n",
       "..                              ...                                      ...   \n",
       "59    POINT (-115.129013 35.987648)            PedalPoint evTerra Recycling,   \n",
       "60   POINT (-115.1854335 36.078715)                            BB Recycling,   \n",
       "61  POINT (-115.0950232 36.2437766)                        Nevada Recycling,   \n",
       "62   POINT (-115.193616 36.0451545)     Advanced Technology Recycling (ATR),   \n",
       "63  POINT (-115.1773029 36.1340222)          Dunn & Son-Electronic Recycler,   \n",
       "\n",
       "           lon        lat  \n",
       "0  -118.351477  34.041273  \n",
       "1  -118.422810  34.204152  \n",
       "2  -118.600035  34.213569  \n",
       "3  -118.485689  34.201817  \n",
       "4  -118.416812  34.260691  \n",
       "..         ...        ...  \n",
       "59 -115.129013  35.987648  \n",
       "60 -115.185434  36.078715  \n",
       "61 -115.095023  36.243777  \n",
       "62 -115.193616  36.045155  \n",
       "63 -115.177303  36.134022  \n",
       "\n",
       "[64 rows x 4 columns]"
      ]
     },
     "execution_count": 3,
     "metadata": {},
     "output_type": "execute_result"
    }
   ],
   "source": [
    "df[['lon', 'lat']] = df['WKT'].str.extract(r'POINT \\(([^ ]+) ([^)]+)\\)').astype(float)\n",
    "df"
   ]
  },
  {
   "cell_type": "code",
   "execution_count": 4,
   "metadata": {},
   "outputs": [],
   "source": [
    "X = df[['lat', 'lon']]\n",
    "\n",
    "scaler = StandardScaler()\n",
    "X_scaled = scaler.fit_transform(X)"
   ]
  },
  {
   "cell_type": "code",
   "execution_count": 5,
   "metadata": {},
   "outputs": [],
   "source": [
    "k_values = range(2, 60)\n",
    "silhouette_scores = []"
   ]
  },
  {
   "cell_type": "code",
   "execution_count": 6,
   "metadata": {},
   "outputs": [
    {
     "name": "stderr",
     "output_type": "stream",
     "text": [
      "c:\\Users\\octav\\OneDrive - Universidad de Sonora\\Archivos semestrales\\Servicio Social\\recicladora\\Lib\\site-packages\\sklearn\\base.py:1389: ConvergenceWarning: Number of distinct clusters (58) found smaller than n_clusters (59). Possibly due to duplicate points in X.\n",
      "  return fit_method(estimator, *args, **kwargs)\n"
     ]
    }
   ],
   "source": [
    "for k in k_values:\n",
    "    kmeans = KMeans(n_clusters=k, random_state=42, n_init=10)\n",
    "    cluster_labels = kmeans.fit_predict(X_scaled)\n",
    "    silhouette_scores.append(silhouette_score(X_scaled, cluster_labels))"
   ]
  },
  {
   "cell_type": "code",
   "execution_count": 7,
   "metadata": {},
   "outputs": [
    {
     "data": {
      "image/png": "[encoded data removed]",
      "text/plain": [
       "<Figure size 1000x600 with 1 Axes>"
      ]
     },
     "metadata": {},
     "output_type": "display_data"
    }
   ],
   "source": [
    "plt.figure(figsize=(10, 6))\n",
    "plt.plot(k_values, silhouette_scores, marker='o', linestyle='-')\n",
    "plt.xlabel('Número de Clusters (k)')\n",
    "plt.ylabel('Silhouette Score')\n",
    "plt.title('Knee Plot: Silhouette Score vs. Número de Clusters')\n",
    "plt.grid(True)\n",
    "plt.show()"
   ]
  },
  {
   "cell_type": "code",
   "execution_count": 8,
   "metadata": {},
   "outputs": [],
   "source": [
    "k = 4"
   ]
  },
  {
   "cell_type": "code",
   "execution_count": 9,
   "metadata": {},
   "outputs": [
    {
     "name": "stdout",
     "output_type": "stream",
     "text": [
      "Silhouette Score: 0.6287\n"
     ]
    }
   ],
   "source": [
    "kmeans = KMeans(n_clusters=k, random_state=42, n_init=10)\n",
    "cluster_labels = kmeans.fit_predict(X)\n",
    "sil_score = silhouette_score(X, cluster_labels)\n",
    "print(f\"Silhouette Score: {sil_score:.4f}\")"
   ]
  },
  {
   "cell_type": "code",
   "execution_count": 10,
   "metadata": {},
   "outputs": [],
   "source": [
    "if X.shape[1] > 2:\n",
    "    pca = PCA(n_components=2)\n",
    "    X_pca = pca.fit_transform(X)\n",
    "else:\n",
    "    X_pca = X.values"
   ]
  },
  {
   "cell_type": "code",
   "execution_count": 11,
   "metadata": {},
   "outputs": [
    {
     "data": {
      "image/png": "[encoded data removed]",
      "text/plain": [
       "<Figure size 800x600 with 1 Axes>"
      ]
     },
     "metadata": {},
     "output_type": "display_data"
    }
   ],
   "source": [
    "unique_labels = np.unique(cluster_labels)\n",
    "colors = [plt.cm.viridis(i / (len(unique_labels) - 1)) for i in range(len(unique_labels))]\n",
    "\n",
    "plt.figure(figsize=(8, 6))\n",
    "scatter = plt.scatter(X_pca[:, 0], X_pca[:, 1], c=cluster_labels, cmap='viridis', alpha=0.7)\n",
    "plt.scatter(kmeans.cluster_centers_[:, 0], kmeans.cluster_centers_[:, 1], c='red', marker='x', s=200, label='Centroides')\n",
    "\n",
    "legend_patches = [mpatches.Patch(color=colors[i], label=f'Tag {unique_labels[i]}') for i in range(len(unique_labels))]\n",
    "plt.legend(handles=legend_patches + [mpatches.Patch(color='red', label='Centroides')])\n",
    "\n",
    "plt.xlabel(\"Componente Principal 1\")\n",
    "plt.ylabel(\"Componente Principal 2\")\n",
    "plt.title(f\"Resultados de K-Means con {k} clusters\")\n",
    "\n",
    "plt.show()"
   ]
  },
  {
   "cell_type": "code",
   "execution_count": 12,
   "metadata": {},
   "outputs": [],
   "source": [
    "rad_lat = np.radians(df['lat'])\n",
    "rad_lon = np.radians(df['lon'])\n",
    "\n",
    "df['x'] = np.cos(rad_lat) * np.cos(rad_lon)\n",
    "def cartessian_cords(row):\n",
    "  lat = np.radians(row['lat'])\n",
    "  lon = np.radians(row['lon'])\n",
    "  x = np.cos(lat) * np.cos(lon)\n",
    "  y = np.cos(lat) * np.sin(lon)\n",
    "  z = np.sin(lat)\n",
    "  \n",
    "  row['x'] = x\n",
    "  row['y'] = y\n",
    "  row['z'] = z\n",
    "  "
   ]
  },
  {
   "cell_type": "code",
   "execution_count": 13,
   "metadata": {},
   "outputs": [
    {
     "data": {
      "application/vnd.microsoft.datawrangler.viewer.v0+json": {
       "columns": [
        {
         "name": "index",
         "rawType": "int64",
         "type": "integer"
        },
        {
         "name": "WKT",
         "rawType": "object",
         "type": "string"
        },
        {
         "name": "name",
         "rawType": "object",
         "type": "string"
        },
        {
         "name": "lon",
         "rawType": "float64",
         "type": "float"
        },
        {
         "name": "lat",
         "rawType": "float64",
         "type": "float"
        },
        {
         "name": "x",
         "rawType": "float64",
         "type": "float"
        },
        {
         "name": "y",
         "rawType": "float64",
         "type": "float"
        },
        {
         "name": "z",
         "rawType": "float64",
         "type": "float"
        }
       ],
       "conversionMethod": "pd.DataFrame",
       "ref": "e2c8cb65-156e-42cc-9368-cee760f46de6",
       "rows": [
        [
         "0",
         "POINT (-118.3514773 34.0412734)",
         "A1 Electronic Recycling,",
         "-118.3514773",
         "34.0412734",
         "-0.3935012084598457",
         "-0.7292406998842026",
         "0.5597899611220619"
        ],
        [
         "1",
         "POINT (-118.42281 34.204152)",
         "eWaste U.S. Electronics Recycling,",
         "-118.42281",
         "34.204152",
         "-0.39364976514477223",
         "-0.7273477569653192",
         "0.562143311655475"
        ],
        [
         "2",
         "POINT (-118.6000354 34.2135694)",
         "CAL E-WASTE RECYCLE LLC,",
         "-118.6000354",
         "34.2135694",
         "-0.3958534514563214",
         "-0.726045522711933",
         "0.5622792401645945"
        ],
        [
         "3",
         "POINT (-118.4856892 34.2018167)",
         "E -Waste LA (Data Destruction Company),",
         "-118.4856892",
         "34.2018167",
         "-0.3944586824572571",
         "-0.7269354462499628",
         "0.5621096021413017"
        ],
        [
         "4",
         "POINT (-118.4168123 34.2606906)",
         "pasadena tech recycle inc,",
         "-118.4168123",
         "34.2606906",
         "-0.3933094541472984",
         "-0.7269007296979553",
         "0.5629591481119518"
        ],
        [
         "5",
         "POINT (-117.8384794 33.7239286)",
         "TechWaste Recycling Inc.,",
         "-117.8384794",
         "33.7239286",
         "-0.3883982025765185",
         "-0.7354650689619817",
         "0.5551918304262745"
        ],
        [
         "6",
         "POINT (-117.2649496 33.21388990000001)",
         "Electronic Waste Recycling Facility ECC, Inc.,",
         "-117.2649496",
         "33.21388990000001",
         "-0.3832658153284813",
         "-0.7436798093225689",
         "0.5477660595605957"
        ],
        [
         "7",
         "POINT (-119.7768516 36.6877343)",
         "ERI - Electronic Recyclers International,",
         "-119.7768516",
         "36.6877343",
         "-0.39824401770361645",
         "-0.6960251630830614",
         "0.5974534916782054"
        ],
        [
         "8",
         "POINT (-80.25504 25.824448)",
         "Electronic Recycling Center,",
         "-80.25504",
         "25.824448",
         "0.15235903632813277",
         "-0.8871449152365324",
         "0.4356152240442573"
        ],
        [
         "9",
         "POINT (-84.22738559999999 33.93449200000001)",
         "eWaste ePlanet | Electronics Recycling, Data Destruction and ITAD Services,",
         "-84.22738559999999",
         "33.93449200000001",
         "0.08344948313733876",
         "-0.8254689983537529",
         "0.5582446744223923"
        ],
        [
         "10",
         "POINT (-117.1002034 32.6542829)",
         "Dream Electronic Recycling FREE E-WASTE DROP OFF \\ PICK UP South Bay,",
         "-117.1002034",
         "32.6542829",
         "-0.38354485938163463",
         "-0.7495058130392647",
         "0.5395686954061297"
        ],
        [
         "11",
         "POINT (-118.3446513 34.0893835)",
         "Electronics Recycling (Best Buy),",
         "-118.3446513",
         "34.0893835",
         "-0.39319102316366084",
         "-0.7288736283727729",
         "0.5604855512555365"
        ],
        [
         "12",
         "POINT (-118.2590119 34.0891616)",
         "Glendale Recycling Center,",
         "-118.2590119",
         "34.0891616",
         "-0.39210217232838235",
         "-0.7294624244398858",
         "0.5604823438661091"
        ],
        [
         "13",
         "POINT (-118.2113685 33.7853098)",
         "Secure E-Waste Destruction,",
         "-118.2113685",
         "33.7853098",
         "-0.3928950618765656",
         "-0.7323972146347572",
         "0.5560825391506724"
        ],
        [
         "14",
         "POINT (-117.6720809 33.6645622)",
         "Green Leaf Electronic & E-Waste Recycling,",
         "-117.6720809",
         "33.6645622",
         "-0.3865275762934501",
         "-0.737099015236612",
         "0.5543297524956854"
        ],
        [
         "15",
         "POINT (-118.4301037 34.2133371)",
         "Surplus Recycling,",
         "-118.4301037",
         "34.2133371",
         "-0.3936994439690153",
         "-0.7272183814264775",
         "0.5622758873844249"
        ],
        [
         "16",
         "POINT (-121.8835752 37.4108362)",
         "Green Ewaste Recycling Center,",
         "-121.8835752",
         "37.4108362",
         "-0.41954510161605413",
         "-0.674458283829627",
         "0.6075260744063328"
        ],
        [
         "17",
         "POINT (-112.0703562 33.69593819999999)",
         "Global Electronic Recycling,",
         "-112.0703562",
         "33.69593819999999",
         "-0.31261725027331605",
         "-0.771027601483106",
         "0.5547854473422672"
        ],
        [
         "18",
         "POINT (-111.9121508 33.61743429999999)",
         "Arizona Electronic Recycle,",
         "-111.9121508",
         "33.61743429999999",
         "-0.31077047689471854",
         "-0.7725923621550815",
         "0.5536449698410169"
        ],
        [
         "19",
         "POINT (-111.83506 33.408256)",
         "Broadway Indoor Recycling Center,",
         "-111.83506",
         "33.408256",
         "-0.3104804008026767",
         "-0.7748809102665921",
         "0.5506010312575039"
        ],
        [
         "20",
         "POINT (-111.9576981 33.40098529999999)",
         "TechRec Recycling - Electronics Recycling,",
         "-111.9576981",
         "33.40098529999999",
         "-0.3121643967488154",
         "-0.7742793668695904",
         "0.5504950966561595"
        ],
        [
         "21",
         "POINT (-112.0039701 33.3921363)",
         "Tree of Life - Electronic Recycling,",
         "-112.0039701",
         "33.3921363",
         "-0.31282145300293296",
         "-0.7741058292648269",
         "0.5503661541549849"
        ],
        [
         "22",
         "POINT (-111.5404725 33.38042889999999)",
         "EVT Recycling,",
         "-111.5404725",
         "33.38042889999999",
         "-0.30659039417857065",
         "-0.7767156476962309",
         "0.5501955405319577"
        ],
        [
         "23",
         "POINT (-112.0645515 33.4454075)",
         "Westech Recyclers,",
         "-112.0645515",
         "33.4454075",
         "-0.31344741598374115",
         "-0.7733000716361077",
         "0.5511421927422234"
        ],
        [
         "24",
         "POINT (-112.1047416 33.4718324)",
         "Agape Computer and Electronics Recycling,",
         "-112.1047416",
         "33.4718324",
         "-0.3138940854032391",
         "-0.7728444274586118",
         "0.5515269658820269"
        ],
        [
         "25",
         "POINT (-112.1308215 33.46679199999999)",
         "Electronic Recycling LLC,",
         "-112.1308215",
         "33.46679199999999",
         "-0.3142641131698711",
         "-0.7727464101977182",
         "0.5514535816368358"
        ],
        [
         "26",
         "POINT (-112.1339227 33.4855538)",
         "EWS | Electronics Recycling Service,",
         "-112.1339227",
         "33.4855538",
         "-0.31423788540466036",
         "-0.7725620888423906",
         "0.5517267170075141"
        ],
        [
         "27",
         "POINT (-106.601978 35.1617606)",
         "Albuquerque Computer & Electronics Recycling Co,",
         "-106.601978",
         "35.1617606",
         "-0.23358569478078867",
         "-0.7834488437938527",
         "0.5758868225197131"
        ],
        [
         "28",
         "POINT (-103.1959892 34.3923748)",
         "Ed's Recycling Center, Inc,",
         "-103.1959892",
         "34.3923748",
         "-0.18837631413330708",
         "-0.803399477892419",
         "0.5648571883190815"
        ],
        [
         "29",
         "POINT (-106.8174961 32.2945612)",
         "Las Cruces Recycling Center,",
         "-106.8174961",
         "32.2945612",
         "-0.24456930615315842",
         "-0.8091595432280222",
         "0.5342721105305621"
        ],
        [
         "30",
         "POINT (-106.0364449 35.6347131)",
         "Lucia Lane Recycling Center,",
         "-106.0364449",
         "35.6347131",
         "-0.22452059326955132",
         "-0.7811207958693006",
         "0.582615486799312"
        ],
        [
         "31",
         "POINT (-105.9790191 35.6932067)",
         "Santa Fe Solid Waste Management Agency’s,",
         "-105.9790191",
         "35.6932067",
         "-0.2235737321758834",
         "-0.780773212293473",
         "0.5834449222042108"
        ],
        [
         "32",
         "POINT (-105.9377966 35.6869812)",
         "New Mexico Recycling Coalition,",
         "-105.9377966",
         "35.6869812",
         "-0.22302933914688275",
         "-0.7809948174400078",
         "0.5833566739238986"
        ],
        [
         "33",
         "POINT (-106.6611384 35.191613)",
         "E-Tech Recycle,",
         "-106.6611384",
         "35.191613",
         "-0.23430845592724553",
         "-0.7829196793134857",
         "0.5763126956997031"
        ],
        [
         "34",
         "POINT (-106.64444 35.1023042)",
         "W Silver Recycling, Inc. - Albuquerque,",
         "-106.64444",
         "35.1023042",
         "-0.23433729225509373",
         "-0.7838476603833606",
         "0.5750381541863832"
        ],
        [
         "35",
         "POINT (-106.6291918 35.1352197)",
         "Earth Day Recycling Co,",
         "-106.6291918",
         "35.1352197",
         "-0.23403410046216558",
         "-0.7835933339071609",
         "0.575508059784679"
        ],
        [
         "36",
         "POINT (-96.7690561 32.8838551)",
         "STS Electronic Recycling,",
         "-96.7690561",
         "32.8838551",
         "-0.09898207971486321",
         "-0.8339190913853041",
         "0.5429378389083132"
        ],
        [
         "37",
         "POINT (-96.8273538 33.15346510000001)",
         "Frisco Environmental Collection Center,",
         "-96.8273538",
         "33.15346510000001",
         "-0.09952571174974123",
         "-0.8312720028138734",
         "0.5468834336844728"
        ],
        [
         "38",
         "POINT (-97.00398419999999 32.9430407)",
         "United Electronic Recycling,",
         "-97.00398419999999",
         "32.9430407",
         "-0.10233208730665133",
         "-0.8329491241219131",
         "0.5438050206939998"
        ],
        [
         "39",
         "POINT (-96.8946619 32.8771697)",
         "E-Cycle Enterprises,",
         "-96.8946619",
         "32.8771697",
         "-0.10081759109674768",
         "-0.8337629831465693",
         "0.5428398486293934"
        ],
        [
         "40",
         "POINT (-96.8780134 32.8618783)",
         "Texas Electronics Recycling,",
         "-96.8780134",
         "32.8618783",
         "-0.10059266554820026",
         "-0.8339360462791285",
         "0.5426156893734672"
        ],
        [
         "41",
         "POINT (-97.73817129999999 30.2132704)",
         "Austin Recycle & Reuse Drop-off Center,",
         "-97.73817129999999",
         "30.2132704",
         "-0.11635576886954095",
         "-0.856289002757186",
         "0.503220109701393"
        ],
        [
         "42",
         "POINT (-95.58273899999999 29.9389734)",
         "Texas Electronic Recyclers,",
         "-95.58273899999999",
         "29.9389734",
         "-0.08430137261810752",
         "-0.8624471736737678",
         "0.4990772998212129"
        ],
        [
         "43",
         "POINT (-95.4458264 29.819112)",
         "E & E Electronics recycling,",
         "-95.4458264",
         "29.819112",
         "-0.08233915693341724",
         "-0.8636836125767642",
         "0.4972633915761786"
        ],
        [
         "44",
         "POINT (-95.6037848 29.6224713)",
         "STS Electronics Recycling Sugar Land,",
         "-95.6037848",
         "29.6224713",
         "-0.08488607533315033",
         "-0.8651467074552552",
         "0.49428284290865876"
        ],
        [
         "45",
         "POINT (-95.6237116 29.6702434)",
         "EverTrade Electronics Recycling Center,",
         "-95.6237116",
         "29.6702434",
         "-0.0851465425327165",
         "-0.8647066923035293",
         "0.4950074772972766"
        ],
        [
         "46",
         "POINT (-115.162006 36.1497229)",
         "Nevada State Recycle,",
         "-115.162006",
         "36.1497229",
         "-0.3433229508252603",
         "-0.7308559976192304",
         "0.5898973318982172"
        ],
        [
         "47",
         "POINT (-115.0214283 36.0634525)",
         "Nevada Recycling,",
         "-115.0214283",
         "36.0634525",
         "-0.3419040195737234",
         "-0.7325001761886771",
         "0.5886808416135928"
        ],
        [
         "48",
         "POINT (-115.129013 35.98764799999999)",
         "PedalPoint evTerra Recycling,",
         "-115.129013",
         "35.98764799999999",
         "-0.3436092800006897",
         "-0.732561381182088",
         "0.5876108282681654"
        ],
        [
         "49",
         "POINT (-115.193616 36.0451545)",
         "Advanced Technology Recycling (ATR),",
         "-115.193616",
         "36.0451545",
         "-0.34418382338746556",
         "-0.7316394458274865",
         "0.5884226516948802"
        ]
       ],
       "shape": {
        "columns": 7,
        "rows": 64
       }
      },
      "text/html": [
       "<div>\n",
       "<style scoped>\n",
       "    .dataframe tbody tr th:only-of-type {\n",
       "        vertical-align: middle;\n",
       "    }\n",
       "\n",
       "    .dataframe tbody tr th {\n",
       "        vertical-align: top;\n",
       "    }\n",
       "\n",
       "    .dataframe thead th {\n",
       "        text-align: right;\n",
       "    }\n",
       "</style>\n",
       "<table border=\"1\" class=\"dataframe\">\n",
       "  <thead>\n",
       "    <tr style=\"text-align: right;\">\n",
       "      <th></th>\n",
       "      <th>WKT</th>\n",
       "      <th>name</th>\n",
       "      <th>lon</th>\n",
       "      <th>lat</th>\n",
       "      <th>x</th>\n",
       "      <th>y</th>\n",
       "      <th>z</th>\n",
       "    </tr>\n",
       "  </thead>\n",
       "  <tbody>\n",
       "    <tr>\n",
       "      <th>0</th>\n",
       "      <td>POINT (-118.3514773 34.0412734)</td>\n",
       "      <td>A1 Electronic Recycling,</td>\n",
       "      <td>-118.351477</td>\n",
       "      <td>34.041273</td>\n",
       "      <td>-0.393501</td>\n",
       "      <td>-0.729241</td>\n",
       "      <td>0.559790</td>\n",
       "    </tr>\n",
       "    <tr>\n",
       "      <th>1</th>\n",
       "      <td>POINT (-118.42281 34.204152)</td>\n",
       "      <td>eWaste U.S. Electronics Recycling,</td>\n",
       "      <td>-118.422810</td>\n",
       "      <td>34.204152</td>\n",
       "      <td>-0.393650</td>\n",
       "      <td>-0.727348</td>\n",
       "      <td>0.562143</td>\n",
       "    </tr>\n",
       "    <tr>\n",
       "      <th>2</th>\n",
       "      <td>POINT (-118.6000354 34.2135694)</td>\n",
       "      <td>CAL E-WASTE RECYCLE LLC,</td>\n",
       "      <td>-118.600035</td>\n",
       "      <td>34.213569</td>\n",
       "      <td>-0.395853</td>\n",
       "      <td>-0.726046</td>\n",
       "      <td>0.562279</td>\n",
       "    </tr>\n",
       "    <tr>\n",
       "      <th>3</th>\n",
       "      <td>POINT (-118.4856892 34.2018167)</td>\n",
       "      <td>E -Waste LA (Data Destruction Company),</td>\n",
       "      <td>-118.485689</td>\n",
       "      <td>34.201817</td>\n",
       "      <td>-0.394459</td>\n",
       "      <td>-0.726935</td>\n",
       "      <td>0.562110</td>\n",
       "    </tr>\n",
       "    <tr>\n",
       "      <th>4</th>\n",
       "      <td>POINT (-118.4168123 34.2606906)</td>\n",
       "      <td>pasadena tech recycle inc,</td>\n",
       "      <td>-118.416812</td>\n",
       "      <td>34.260691</td>\n",
       "      <td>-0.393309</td>\n",
       "      <td>-0.726901</td>\n",
       "      <td>0.562959</td>\n",
       "    </tr>\n",
       "    <tr>\n",
       "      <th>...</th>\n",
       "      <td>...</td>\n",
       "      <td>...</td>\n",
       "      <td>...</td>\n",
       "      <td>...</td>\n",
       "      <td>...</td>\n",
       "      <td>...</td>\n",
       "      <td>...</td>\n",
       "    </tr>\n",
       "    <tr>\n",
       "      <th>59</th>\n",
       "      <td>POINT (-115.129013 35.987648)</td>\n",
       "      <td>PedalPoint evTerra Recycling,</td>\n",
       "      <td>-115.129013</td>\n",
       "      <td>35.987648</td>\n",
       "      <td>-0.343609</td>\n",
       "      <td>-0.732561</td>\n",
       "      <td>0.587611</td>\n",
       "    </tr>\n",
       "    <tr>\n",
       "      <th>60</th>\n",
       "      <td>POINT (-115.1854335 36.078715)</td>\n",
       "      <td>BB Recycling,</td>\n",
       "      <td>-115.185434</td>\n",
       "      <td>36.078715</td>\n",
       "      <td>-0.343933</td>\n",
       "      <td>-0.731377</td>\n",
       "      <td>0.588896</td>\n",
       "    </tr>\n",
       "    <tr>\n",
       "      <th>61</th>\n",
       "      <td>POINT (-115.0950232 36.2437766)</td>\n",
       "      <td>Nevada Recycling,</td>\n",
       "      <td>-115.095023</td>\n",
       "      <td>36.243777</td>\n",
       "      <td>-0.342057</td>\n",
       "      <td>-0.730379</td>\n",
       "      <td>0.591222</td>\n",
       "    </tr>\n",
       "    <tr>\n",
       "      <th>62</th>\n",
       "      <td>POINT (-115.193616 36.0451545)</td>\n",
       "      <td>Advanced Technology Recycling (ATR),</td>\n",
       "      <td>-115.193616</td>\n",
       "      <td>36.045155</td>\n",
       "      <td>-0.344184</td>\n",
       "      <td>-0.731639</td>\n",
       "      <td>0.588423</td>\n",
       "    </tr>\n",
       "    <tr>\n",
       "      <th>63</th>\n",
       "      <td>POINT (-115.1773029 36.1340222)</td>\n",
       "      <td>Dunn &amp; Son-Electronic Recycler,</td>\n",
       "      <td>-115.177303</td>\n",
       "      <td>36.134022</td>\n",
       "      <td>-0.343587</td>\n",
       "      <td>-0.730911</td>\n",
       "      <td>0.589676</td>\n",
       "    </tr>\n",
       "  </tbody>\n",
       "</table>\n",
       "<p>64 rows × 7 columns</p>\n",
       "</div>"
      ],
      "text/plain": [
       "                                WKT                                     name  \\\n",
       "0   POINT (-118.3514773 34.0412734)                 A1 Electronic Recycling,   \n",
       "1      POINT (-118.42281 34.204152)       eWaste U.S. Electronics Recycling,   \n",
       "2   POINT (-118.6000354 34.2135694)                 CAL E-WASTE RECYCLE LLC,   \n",
       "3   POINT (-118.4856892 34.2018167)  E -Waste LA (Data Destruction Company),   \n",
       "4   POINT (-118.4168123 34.2606906)               pasadena tech recycle inc,   \n",
       "..                              ...                                      ...   \n",
       "59    POINT (-115.129013 35.987648)            PedalPoint evTerra Recycling,   \n",
       "60   POINT (-115.1854335 36.078715)                            BB Recycling,   \n",
       "61  POINT (-115.0950232 36.2437766)                        Nevada Recycling,   \n",
       "62   POINT (-115.193616 36.0451545)     Advanced Technology Recycling (ATR),   \n",
       "63  POINT (-115.1773029 36.1340222)          Dunn & Son-Electronic Recycler,   \n",
       "\n",
       "           lon        lat         x         y         z  \n",
       "0  -118.351477  34.041273 -0.393501 -0.729241  0.559790  \n",
       "1  -118.422810  34.204152 -0.393650 -0.727348  0.562143  \n",
       "2  -118.600035  34.213569 -0.395853 -0.726046  0.562279  \n",
       "3  -118.485689  34.201817 -0.394459 -0.726935  0.562110  \n",
       "4  -118.416812  34.260691 -0.393309 -0.726901  0.562959  \n",
       "..         ...        ...       ...       ...       ...  \n",
       "59 -115.129013  35.987648 -0.343609 -0.732561  0.587611  \n",
       "60 -115.185434  36.078715 -0.343933 -0.731377  0.588896  \n",
       "61 -115.095023  36.243777 -0.342057 -0.730379  0.591222  \n",
       "62 -115.193616  36.045155 -0.344184 -0.731639  0.588423  \n",
       "63 -115.177303  36.134022 -0.343587 -0.730911  0.589676  \n",
       "\n",
       "[64 rows x 7 columns]"
      ]
     },
     "execution_count": 13,
     "metadata": {},
     "output_type": "execute_result"
    }
   ],
   "source": [
    "rad_lat = np.radians(df['lat'])\n",
    "rad_lon = np.radians(df['lon'])\n",
    "\n",
    "df['x'] = np.cos(rad_lat) * np.cos(rad_lon)\n",
    "df['y'] = np.cos(rad_lat) * np.sin(rad_lon)\n",
    "df['z'] = np.sin(rad_lat)\n",
    "\n",
    "df"
   ]
  },
  {
   "cell_type": "code",
   "execution_count": null,
   "metadata": {},
   "outputs": [],
   "source": []
  }
 ],
 "metadata": {
  "kernelspec": {
   "display_name": "recicladora",
   "language": "python",
   "name": "python3"
  },
  "language_info": {
   "codemirror_mode": {
    "name": "ipython",
    "version": 3
   },
   "file_extension": ".py",
   "mimetype": "text/x-python",
   "name": "python",
   "nbconvert_exporter": "python",
   "pygments_lexer": "ipython3",
   "version": "3.12.9"
  }
 },
 "nbformat": 4,
 "nbformat_minor": 2
}
