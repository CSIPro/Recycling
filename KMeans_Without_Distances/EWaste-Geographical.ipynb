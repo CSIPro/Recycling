{
 "cells": [
  {
   "cell_type": "code",
   "execution_count": 1,
   "metadata": {},
   "outputs": [],
   "source": [
    "import pandas as pd\n",
    "import numpy as np\n",
    "import os\n",
    "from sklearn.cluster import KMeans\n",
    "from sklearn.preprocessing import StandardScaler\n",
    "from sklearn.datasets import make_blobs\n",
    "from sklearn.metrics import silhouette_score\n",
    "from sklearn.decomposition import PCA\n",
    "import matplotlib.pyplot as plt\n",
    "import matplotlib.patches as mpatches\n",
    "import folium\n",
    "os.environ[\"OMP_NUM_THREADS\"] = \"5\""
   ]
  },
  {
   "cell_type": "code",
   "execution_count": 2,
   "metadata": {},
   "outputs": [
    {
     "data": {
      "application/vnd.microsoft.datawrangler.viewer.v0+json": {
       "columns": [
        {
         "name": "index",
         "rawType": "int64",
         "type": "integer"
        },
        {
         "name": "WKT",
         "rawType": "object",
         "type": "string"
        },
        {
         "name": "name",
         "rawType": "object",
         "type": "string"
        },
        {
         "name": "lon",
         "rawType": "float64",
         "type": "float"
        },
        {
         "name": "lat",
         "rawType": "float64",
         "type": "float"
        }
       ],
       "conversionMethod": "pd.DataFrame",
       "ref": "b43f9952-3914-4761-b80a-1fb1d8b377d5",
       "rows": [
        [
         "0",
         "POINT (-118.3514773 34.0412734)",
         "A1 Electronic Recycling,",
         "-118.3514773",
         "34.0412734"
        ],
        [
         "1",
         "POINT (-118.42281 34.204152)",
         "eWaste U.S. Electronics Recycling,",
         "-118.42281",
         "34.204152"
        ],
        [
         "2",
         "POINT (-118.6000354 34.2135694)",
         "CAL E-WASTE RECYCLE LLC,",
         "-118.6000354",
         "34.2135694"
        ],
        [
         "3",
         "POINT (-118.4856892 34.2018167)",
         "E -Waste LA (Data Destruction Company),",
         "-118.4856892",
         "34.2018167"
        ],
        [
         "4",
         "POINT (-118.4168123 34.2606906)",
         "pasadena tech recycle inc,",
         "-118.4168123",
         "34.2606906"
        ],
        [
         "5",
         "POINT (-117.8384794 33.7239286)",
         "TechWaste Recycling Inc.,",
         "-117.8384794",
         "33.7239286"
        ],
        [
         "6",
         "POINT (-117.2649496 33.21388990000001)",
         "Electronic Waste Recycling Facility ECC, Inc.,",
         "-117.2649496",
         "33.21388990000001"
        ],
        [
         "7",
         "POINT (-119.7768516 36.6877343)",
         "ERI - Electronic Recyclers International,",
         "-119.7768516",
         "36.6877343"
        ],
        [
         "8",
         "POINT (-80.25504 25.824448)",
         "Electronic Recycling Center,",
         "-80.25504",
         "25.824448"
        ],
        [
         "9",
         "POINT (-84.22738559999999 33.93449200000001)",
         "eWaste ePlanet | Electronics Recycling, Data Destruction and ITAD Services,",
         "-84.22738559999999",
         "33.93449200000001"
        ],
        [
         "10",
         "POINT (-117.1002034 32.6542829)",
         "Dream Electronic Recycling FREE E-WASTE DROP OFF \\ PICK UP South Bay,",
         "-117.1002034",
         "32.6542829"
        ],
        [
         "11",
         "POINT (-118.3446513 34.0893835)",
         "Electronics Recycling (Best Buy),",
         "-118.3446513",
         "34.0893835"
        ],
        [
         "12",
         "POINT (-118.2590119 34.0891616)",
         "Glendale Recycling Center,",
         "-118.2590119",
         "34.0891616"
        ],
        [
         "13",
         "POINT (-118.2113685 33.7853098)",
         "Secure E-Waste Destruction,",
         "-118.2113685",
         "33.7853098"
        ],
        [
         "14",
         "POINT (-117.6720809 33.6645622)",
         "Green Leaf Electronic & E-Waste Recycling,",
         "-117.6720809",
         "33.6645622"
        ],
        [
         "15",
         "POINT (-118.4301037 34.2133371)",
         "Surplus Recycling,",
         "-118.4301037",
         "34.2133371"
        ],
        [
         "16",
         "POINT (-121.8835752 37.4108362)",
         "Green Ewaste Recycling Center,",
         "-121.8835752",
         "37.4108362"
        ],
        [
         "17",
         "POINT (-112.0703562 33.69593819999999)",
         "Global Electronic Recycling,",
         "-112.0703562",
         "33.69593819999999"
        ],
        [
         "18",
         "POINT (-111.9121508 33.61743429999999)",
         "Arizona Electronic Recycle,",
         "-111.9121508",
         "33.61743429999999"
        ],
        [
         "19",
         "POINT (-111.83506 33.408256)",
         "Broadway Indoor Recycling Center,",
         "-111.83506",
         "33.408256"
        ],
        [
         "20",
         "POINT (-111.9576981 33.40098529999999)",
         "TechRec Recycling - Electronics Recycling,",
         "-111.9576981",
         "33.40098529999999"
        ],
        [
         "21",
         "POINT (-112.0039701 33.3921363)",
         "Tree of Life - Electronic Recycling,",
         "-112.0039701",
         "33.3921363"
        ],
        [
         "22",
         "POINT (-111.5404725 33.38042889999999)",
         "EVT Recycling,",
         "-111.5404725",
         "33.38042889999999"
        ],
        [
         "23",
         "POINT (-112.0645515 33.4454075)",
         "Westech Recyclers,",
         "-112.0645515",
         "33.4454075"
        ],
        [
         "24",
         "POINT (-112.1047416 33.4718324)",
         "Agape Computer and Electronics Recycling,",
         "-112.1047416",
         "33.4718324"
        ],
        [
         "25",
         "POINT (-112.1308215 33.46679199999999)",
         "Electronic Recycling LLC,",
         "-112.1308215",
         "33.46679199999999"
        ],
        [
         "26",
         "POINT (-112.1339227 33.4855538)",
         "EWS | Electronics Recycling Service,",
         "-112.1339227",
         "33.4855538"
        ],
        [
         "27",
         "POINT (-106.601978 35.1617606)",
         "Albuquerque Computer & Electronics Recycling Co,",
         "-106.601978",
         "35.1617606"
        ],
        [
         "28",
         "POINT (-103.1959892 34.3923748)",
         "Ed's Recycling Center, Inc,",
         "-103.1959892",
         "34.3923748"
        ],
        [
         "29",
         "POINT (-106.8174961 32.2945612)",
         "Las Cruces Recycling Center,",
         "-106.8174961",
         "32.2945612"
        ],
        [
         "30",
         "POINT (-106.0364449 35.6347131)",
         "Lucia Lane Recycling Center,",
         "-106.0364449",
         "35.6347131"
        ],
        [
         "31",
         "POINT (-105.9790191 35.6932067)",
         "Santa Fe Solid Waste Management Agency’s,",
         "-105.9790191",
         "35.6932067"
        ],
        [
         "32",
         "POINT (-105.9377966 35.6869812)",
         "New Mexico Recycling Coalition,",
         "-105.9377966",
         "35.6869812"
        ],
        [
         "33",
         "POINT (-106.6611384 35.191613)",
         "E-Tech Recycle,",
         "-106.6611384",
         "35.191613"
        ],
        [
         "34",
         "POINT (-106.64444 35.1023042)",
         "W Silver Recycling, Inc. - Albuquerque,",
         "-106.64444",
         "35.1023042"
        ],
        [
         "35",
         "POINT (-106.6291918 35.1352197)",
         "Earth Day Recycling Co,",
         "-106.6291918",
         "35.1352197"
        ],
        [
         "36",
         "POINT (-96.7690561 32.8838551)",
         "STS Electronic Recycling,",
         "-96.7690561",
         "32.8838551"
        ],
        [
         "37",
         "POINT (-96.8273538 33.15346510000001)",
         "Frisco Environmental Collection Center,",
         "-96.8273538",
         "33.15346510000001"
        ],
        [
         "38",
         "POINT (-97.00398419999999 32.9430407)",
         "United Electronic Recycling,",
         "-97.00398419999999",
         "32.9430407"
        ],
        [
         "39",
         "POINT (-96.8946619 32.8771697)",
         "E-Cycle Enterprises,",
         "-96.8946619",
         "32.8771697"
        ],
        [
         "40",
         "POINT (-96.8780134 32.8618783)",
         "Texas Electronics Recycling,",
         "-96.8780134",
         "32.8618783"
        ],
        [
         "41",
         "POINT (-97.73817129999999 30.2132704)",
         "Austin Recycle & Reuse Drop-off Center,",
         "-97.73817129999999",
         "30.2132704"
        ],
        [
         "42",
         "POINT (-95.58273899999999 29.9389734)",
         "Texas Electronic Recyclers,",
         "-95.58273899999999",
         "29.9389734"
        ],
        [
         "43",
         "POINT (-95.4458264 29.819112)",
         "E & E Electronics recycling,",
         "-95.4458264",
         "29.819112"
        ],
        [
         "44",
         "POINT (-95.6037848 29.6224713)",
         "STS Electronics Recycling Sugar Land,",
         "-95.6037848",
         "29.6224713"
        ],
        [
         "45",
         "POINT (-95.6237116 29.6702434)",
         "EverTrade Electronics Recycling Center,",
         "-95.6237116",
         "29.6702434"
        ],
        [
         "46",
         "POINT (-115.162006 36.1497229)",
         "Nevada State Recycle,",
         "-115.162006",
         "36.1497229"
        ],
        [
         "47",
         "POINT (-115.0214283 36.0634525)",
         "Nevada Recycling,",
         "-115.0214283",
         "36.0634525"
        ],
        [
         "48",
         "POINT (-115.129013 35.98764799999999)",
         "PedalPoint evTerra Recycling,",
         "-115.129013",
         "35.98764799999999"
        ],
        [
         "49",
         "POINT (-115.193616 36.0451545)",
         "Advanced Technology Recycling (ATR),",
         "-115.193616",
         "36.0451545"
        ]
       ],
       "shape": {
        "columns": 4,
        "rows": 64
       }
      },
      "text/html": [
       "<div>\n",
       "<style scoped>\n",
       "    .dataframe tbody tr th:only-of-type {\n",
       "        vertical-align: middle;\n",
       "    }\n",
       "\n",
       "    .dataframe tbody tr th {\n",
       "        vertical-align: top;\n",
       "    }\n",
       "\n",
       "    .dataframe thead th {\n",
       "        text-align: right;\n",
       "    }\n",
       "</style>\n",
       "<table border=\"1\" class=\"dataframe\">\n",
       "  <thead>\n",
       "    <tr style=\"text-align: right;\">\n",
       "      <th></th>\n",
       "      <th>WKT</th>\n",
       "      <th>name</th>\n",
       "      <th>lon</th>\n",
       "      <th>lat</th>\n",
       "    </tr>\n",
       "  </thead>\n",
       "  <tbody>\n",
       "    <tr>\n",
       "      <th>0</th>\n",
       "      <td>POINT (-118.3514773 34.0412734)</td>\n",
       "      <td>A1 Electronic Recycling,</td>\n",
       "      <td>-118.351477</td>\n",
       "      <td>34.041273</td>\n",
       "    </tr>\n",
       "    <tr>\n",
       "      <th>1</th>\n",
       "      <td>POINT (-118.42281 34.204152)</td>\n",
       "      <td>eWaste U.S. Electronics Recycling,</td>\n",
       "      <td>-118.422810</td>\n",
       "      <td>34.204152</td>\n",
       "    </tr>\n",
       "    <tr>\n",
       "      <th>2</th>\n",
       "      <td>POINT (-118.6000354 34.2135694)</td>\n",
       "      <td>CAL E-WASTE RECYCLE LLC,</td>\n",
       "      <td>-118.600035</td>\n",
       "      <td>34.213569</td>\n",
       "    </tr>\n",
       "    <tr>\n",
       "      <th>3</th>\n",
       "      <td>POINT (-118.4856892 34.2018167)</td>\n",
       "      <td>E -Waste LA (Data Destruction Company),</td>\n",
       "      <td>-118.485689</td>\n",
       "      <td>34.201817</td>\n",
       "    </tr>\n",
       "    <tr>\n",
       "      <th>4</th>\n",
       "      <td>POINT (-118.4168123 34.2606906)</td>\n",
       "      <td>pasadena tech recycle inc,</td>\n",
       "      <td>-118.416812</td>\n",
       "      <td>34.260691</td>\n",
       "    </tr>\n",
       "    <tr>\n",
       "      <th>...</th>\n",
       "      <td>...</td>\n",
       "      <td>...</td>\n",
       "      <td>...</td>\n",
       "      <td>...</td>\n",
       "    </tr>\n",
       "    <tr>\n",
       "      <th>59</th>\n",
       "      <td>POINT (-115.129013 35.987648)</td>\n",
       "      <td>PedalPoint evTerra Recycling,</td>\n",
       "      <td>-115.129013</td>\n",
       "      <td>35.987648</td>\n",
       "    </tr>\n",
       "    <tr>\n",
       "      <th>60</th>\n",
       "      <td>POINT (-115.1854335 36.078715)</td>\n",
       "      <td>BB Recycling,</td>\n",
       "      <td>-115.185434</td>\n",
       "      <td>36.078715</td>\n",
       "    </tr>\n",
       "    <tr>\n",
       "      <th>61</th>\n",
       "      <td>POINT (-115.0950232 36.2437766)</td>\n",
       "      <td>Nevada Recycling,</td>\n",
       "      <td>-115.095023</td>\n",
       "      <td>36.243777</td>\n",
       "    </tr>\n",
       "    <tr>\n",
       "      <th>62</th>\n",
       "      <td>POINT (-115.193616 36.0451545)</td>\n",
       "      <td>Advanced Technology Recycling (ATR),</td>\n",
       "      <td>-115.193616</td>\n",
       "      <td>36.045155</td>\n",
       "    </tr>\n",
       "    <tr>\n",
       "      <th>63</th>\n",
       "      <td>POINT (-115.1773029 36.1340222)</td>\n",
       "      <td>Dunn &amp; Son-Electronic Recycler,</td>\n",
       "      <td>-115.177303</td>\n",
       "      <td>36.134022</td>\n",
       "    </tr>\n",
       "  </tbody>\n",
       "</table>\n",
       "<p>64 rows × 4 columns</p>\n",
       "</div>"
      ],
      "text/plain": [
       "                                WKT                                     name  \\\n",
       "0   POINT (-118.3514773 34.0412734)                 A1 Electronic Recycling,   \n",
       "1      POINT (-118.42281 34.204152)       eWaste U.S. Electronics Recycling,   \n",
       "2   POINT (-118.6000354 34.2135694)                 CAL E-WASTE RECYCLE LLC,   \n",
       "3   POINT (-118.4856892 34.2018167)  E -Waste LA (Data Destruction Company),   \n",
       "4   POINT (-118.4168123 34.2606906)               pasadena tech recycle inc,   \n",
       "..                              ...                                      ...   \n",
       "59    POINT (-115.129013 35.987648)            PedalPoint evTerra Recycling,   \n",
       "60   POINT (-115.1854335 36.078715)                            BB Recycling,   \n",
       "61  POINT (-115.0950232 36.2437766)                        Nevada Recycling,   \n",
       "62   POINT (-115.193616 36.0451545)     Advanced Technology Recycling (ATR),   \n",
       "63  POINT (-115.1773029 36.1340222)          Dunn & Son-Electronic Recycler,   \n",
       "\n",
       "           lon        lat  \n",
       "0  -118.351477  34.041273  \n",
       "1  -118.422810  34.204152  \n",
       "2  -118.600035  34.213569  \n",
       "3  -118.485689  34.201817  \n",
       "4  -118.416812  34.260691  \n",
       "..         ...        ...  \n",
       "59 -115.129013  35.987648  \n",
       "60 -115.185434  36.078715  \n",
       "61 -115.095023  36.243777  \n",
       "62 -115.193616  36.045155  \n",
       "63 -115.177303  36.134022  \n",
       "\n",
       "[64 rows x 4 columns]"
      ]
     },
     "execution_count": 2,
     "metadata": {},
     "output_type": "execute_result"
    }
   ],
   "source": [
    "df = pd.read_csv('./../CSVs/Battery and e-waste collection centers USA.csv')\n",
    "df[['lon', 'lat']] = df['WKT'].str.extract(r'POINT \\(([^ ]+) ([^)]+)\\)').astype(float)\n",
    "df"
   ]
  },
  {
   "cell_type": "code",
   "execution_count": 3,
   "metadata": {},
   "outputs": [],
   "source": [
    "rad_lat = np.radians(df['lat'])\n",
    "rad_lon = np.radians(df['lon'])\n",
    "\n",
    "df['x'] = np.cos(rad_lat) * np.cos(rad_lon)\n",
    "df['y'] = np.cos(rad_lat) * np.sin(rad_lon)\n",
    "df['z'] = np.sin(rad_lat)"
   ]
  },
  {
   "cell_type": "code",
   "execution_count": 4,
   "metadata": {},
   "outputs": [
    {
     "data": {
      "text/plain": [
       "0     None\n",
       "1     None\n",
       "2     None\n",
       "3     None\n",
       "4     None\n",
       "      ... \n",
       "59    None\n",
       "60    None\n",
       "61    None\n",
       "62    None\n",
       "63    None\n",
       "Length: 64, dtype: object"
      ]
     },
     "execution_count": 4,
     "metadata": {},
     "output_type": "execute_result"
    }
   ],
   "source": [
    "m = folium.Map([33.447046773463654, -112.08091337731709], zoom_start=12)\n",
    "\n",
    "def mark_on_map(row):\n",
    "  lat = row['lat']\n",
    "  lon = row['lon']\n",
    "  \n",
    "  folium.Marker(\n",
    "    location=[lat, lon],\n",
    "    popup=row['name'],\n",
    "    icon=folium.Icon(\"red\")\n",
    "  ).add_to(m)\n",
    "  \n",
    "df.apply(mark_on_map, axis=1)"
   ]
  },
  {
   "cell_type": "code",
   "execution_count": 5,
   "metadata": {},
   "outputs": [],
   "source": [
    "X = df[['x', 'y', 'z']]"
   ]
  },
  {
   "cell_type": "code",
   "execution_count": 6,
   "metadata": {},
   "outputs": [],
   "source": [
    "k_values = range(2, 60)\n",
    "silhouette_scores = []\n",
    "\n",
    "for k in k_values:\n",
    "    kmeans = KMeans(n_clusters=k, random_state=42, n_init=10)\n",
    "    cluster_labels = kmeans.fit_predict(X)\n",
    "    silhouette_scores.append(silhouette_score(X, cluster_labels))"
   ]
  },
  {
   "cell_type": "code",
   "execution_count": null,
   "metadata": {},
   "outputs": [
    {
     "name": "stdout",
     "output_type": "stream",
     "text": [
      "Silhouette Score: 0.1562\n"
     ]
    }
   ],
   "source": []
  },
  {
   "cell_type": "code",
   "execution_count": 8,
   "metadata": {},
   "outputs": [
    {
     "data": {
      "image/png": "[encoded data removed]",
      "text/plain": [
       "<Figure size 1000x600 with 1 Axes>"
      ]
     },
     "metadata": {},
     "output_type": "display_data"
    }
   ],
   "source": [
    "plt.figure(figsize=(10, 6))\n",
    "plt.plot(k_values, silhouette_scores, marker='o', linestyle='-')\n",
    "plt.xlabel('Número de Clusters (k)')\n",
    "plt.ylabel('Silhouette Score')\n",
    "plt.title('Knee Plot: Silhouette Score vs. Número de Clusters')\n",
    "plt.grid(True)\n",
    "plt.show()"
   ]
  },
  {
   "cell_type": "code",
   "execution_count": null,
   "metadata": {},
   "outputs": [],
   "source": [
    "k=25\n",
    "kmeans = KMeans(n_clusters=k, random_state=42, n_init=10)\n",
    "cluster_labels = kmeans.fit_predict(X)\n",
    "sil_score = silhouette_score(X, cluster_labels)\n",
    "print(f\"Silhouette Score: {sil_score:.4f}\")"
   ]
  }
 ],
 "metadata": {
  "kernelspec": {
   "display_name": "recicladora",
   "language": "python",
   "name": "python3"
  },
  "language_info": {
   "codemirror_mode": {
    "name": "ipython",
    "version": 3
   },
   "file_extension": ".py",
   "mimetype": "text/x-python",
   "name": "python",
   "nbconvert_exporter": "python",
   "pygments_lexer": "ipython3",
   "version": "3.12.9"
  }
 },
 "nbformat": 4,
 "nbformat_minor": 2
}
