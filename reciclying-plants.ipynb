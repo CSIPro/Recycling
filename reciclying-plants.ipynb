{
 "cells": [
  {
   "cell_type": "code",
   "execution_count": 2,
   "metadata": {},
   "outputs": [],
   "source": [
    "import pandas as pd"
   ]
  },
  {
   "cell_type": "code",
   "execution_count": 1,
   "metadata": {},
   "outputs": [],
   "source": [
    "import pandas as pd\n",
    "import numpy as np\n",
    "import os\n",
    "from sklearn.cluster import KMeans\n",
    "from sklearn.preprocessing import StandardScaler\n",
    "from sklearn.datasets import make_blobs\n",
    "from sklearn.metrics import silhouette_score\n",
    "from sklearn.decomposition import PCA\n",
    "import matplotlib.pyplot as plt\n",
    "import matplotlib.patches as mpatches\n",
    "os.environ[\"OMP_NUM_THREADS\"] = \"5\""
   ]
  },
  {
   "cell_type": "code",
   "execution_count": 2,
   "metadata": {},
   "outputs": [
    {
     "data": {
      "text/html": [
       "<div>\n",
       "<style scoped>\n",
       "    .dataframe tbody tr th:only-of-type {\n",
       "        vertical-align: middle;\n",
       "    }\n",
       "\n",
       "    .dataframe tbody tr th {\n",
       "        vertical-align: top;\n",
       "    }\n",
       "\n",
       "    .dataframe thead th {\n",
       "        text-align: right;\n",
       "    }\n",
       "</style>\n",
       "<table border=\"1\" class=\"dataframe\">\n",
       "  <thead>\n",
       "    <tr style=\"text-align: right;\">\n",
       "      <th></th>\n",
       "      <th>WKT</th>\n",
       "      <th>name</th>\n",
       "      <th>description</th>\n",
       "    </tr>\n",
       "  </thead>\n",
       "  <tbody>\n",
       "    <tr>\n",
       "      <th>0</th>\n",
       "      <td>POINT (-77.67829119999999 43.1981518)</td>\n",
       "      <td>Li-Cycle New York Spoke</td>\n",
       "      <td>Expects to use a hydrometallurgical process an...</td>\n",
       "    </tr>\n",
       "    <tr>\n",
       "      <th>1</th>\n",
       "      <td>POINT (-111.7696764 32.87824409999999)</td>\n",
       "      <td>Quemetco Metals Ltd Inc</td>\n",
       "      <td>Quemetco Metals Ltd Inc - Ecobat. It will init...</td>\n",
       "    </tr>\n",
       "    <tr>\n",
       "      <th>2</th>\n",
       "      <td>POINT (-95.46281119999999 29.7386312)</td>\n",
       "      <td>ACE Green Recycling</td>\n",
       "      <td>https://www.acegreenrecycling.com/ It plans to...</td>\n",
       "    </tr>\n",
       "    <tr>\n",
       "      <th>3</th>\n",
       "      <td>POINT (-119.7414856 39.204376)</td>\n",
       "      <td>Redwood Materials</td>\n",
       "      <td>Unspecified capacity, up to 95% material recov...</td>\n",
       "    </tr>\n",
       "    <tr>\n",
       "      <th>4</th>\n",
       "      <td>POINT (-119.8217446 39.5242032)</td>\n",
       "      <td>American Battery Technology Company</td>\n",
       "      <td>https://americanbatterytechnology.com 20,000 t...</td>\n",
       "    </tr>\n",
       "    <tr>\n",
       "      <th>5</th>\n",
       "      <td>POINT (-119.4399422 39.53570729999999)</td>\n",
       "      <td>Tesla Giga Nevada</td>\n",
       "      <td>Tesla Gigafactory 1, located in Sparks, Nevada...</td>\n",
       "    </tr>\n",
       "    <tr>\n",
       "      <th>6</th>\n",
       "      <td>POINT (-83.84230749999999 33.6122481)</td>\n",
       "      <td>Ascend Elements</td>\n",
       "      <td>\"Inc.,Unspecified capacity, recycling process...</td>\n",
       "    </tr>\n",
       "  </tbody>\n",
       "</table>\n",
       "</div>"
      ],
      "text/plain": [
       "                                      WKT  \\\n",
       "0   POINT (-77.67829119999999 43.1981518)   \n",
       "1  POINT (-111.7696764 32.87824409999999)   \n",
       "2   POINT (-95.46281119999999 29.7386312)   \n",
       "3          POINT (-119.7414856 39.204376)   \n",
       "4         POINT (-119.8217446 39.5242032)   \n",
       "5  POINT (-119.4399422 39.53570729999999)   \n",
       "6   POINT (-83.84230749999999 33.6122481)   \n",
       "\n",
       "                                  name  \\\n",
       "0              Li-Cycle New York Spoke   \n",
       "1              Quemetco Metals Ltd Inc   \n",
       "2                  ACE Green Recycling   \n",
       "3                    Redwood Materials   \n",
       "4  American Battery Technology Company   \n",
       "5                    Tesla Giga Nevada   \n",
       "6                      Ascend Elements   \n",
       "\n",
       "                                         description  \n",
       "0  Expects to use a hydrometallurgical process an...  \n",
       "1  Quemetco Metals Ltd Inc - Ecobat. It will init...  \n",
       "2  https://www.acegreenrecycling.com/ It plans to...  \n",
       "3  Unspecified capacity, up to 95% material recov...  \n",
       "4  https://americanbatterytechnology.com 20,000 t...  \n",
       "5  Tesla Gigafactory 1, located in Sparks, Nevada...  \n",
       "6   \"Inc.,Unspecified capacity, recycling process...  "
      ]
     },
     "execution_count": 2,
     "metadata": {},
     "output_type": "execute_result"
    }
   ],
   "source": [
    "df = pd.read_csv('db/lithium-reciclying-plants.csv', delimiter=';')\n",
    "df"
   ]
  },
  {
   "cell_type": "code",
   "execution_count": 3,
   "metadata": {},
   "outputs": [
    {
     "data": {
      "text/html": [
       "<div>\n",
       "<style scoped>\n",
       "    .dataframe tbody tr th:only-of-type {\n",
       "        vertical-align: middle;\n",
       "    }\n",
       "\n",
       "    .dataframe tbody tr th {\n",
       "        vertical-align: top;\n",
       "    }\n",
       "\n",
       "    .dataframe thead th {\n",
       "        text-align: right;\n",
       "    }\n",
       "</style>\n",
       "<table border=\"1\" class=\"dataframe\">\n",
       "  <thead>\n",
       "    <tr style=\"text-align: right;\">\n",
       "      <th></th>\n",
       "      <th>WKT</th>\n",
       "      <th>name</th>\n",
       "      <th>description</th>\n",
       "      <th>lon</th>\n",
       "      <th>lat</th>\n",
       "    </tr>\n",
       "  </thead>\n",
       "  <tbody>\n",
       "    <tr>\n",
       "      <th>0</th>\n",
       "      <td>POINT (-77.67829119999999 43.1981518)</td>\n",
       "      <td>Li-Cycle New York Spoke</td>\n",
       "      <td>Expects to use a hydrometallurgical process an...</td>\n",
       "      <td>-77.678291</td>\n",
       "      <td>43.198152</td>\n",
       "    </tr>\n",
       "    <tr>\n",
       "      <th>1</th>\n",
       "      <td>POINT (-111.7696764 32.87824409999999)</td>\n",
       "      <td>Quemetco Metals Ltd Inc</td>\n",
       "      <td>Quemetco Metals Ltd Inc - Ecobat. It will init...</td>\n",
       "      <td>-111.769676</td>\n",
       "      <td>32.878244</td>\n",
       "    </tr>\n",
       "    <tr>\n",
       "      <th>2</th>\n",
       "      <td>POINT (-95.46281119999999 29.7386312)</td>\n",
       "      <td>ACE Green Recycling</td>\n",
       "      <td>https://www.acegreenrecycling.com/ It plans to...</td>\n",
       "      <td>-95.462811</td>\n",
       "      <td>29.738631</td>\n",
       "    </tr>\n",
       "    <tr>\n",
       "      <th>3</th>\n",
       "      <td>POINT (-119.7414856 39.204376)</td>\n",
       "      <td>Redwood Materials</td>\n",
       "      <td>Unspecified capacity, up to 95% material recov...</td>\n",
       "      <td>-119.741486</td>\n",
       "      <td>39.204376</td>\n",
       "    </tr>\n",
       "    <tr>\n",
       "      <th>4</th>\n",
       "      <td>POINT (-119.8217446 39.5242032)</td>\n",
       "      <td>American Battery Technology Company</td>\n",
       "      <td>https://americanbatterytechnology.com 20,000 t...</td>\n",
       "      <td>-119.821745</td>\n",
       "      <td>39.524203</td>\n",
       "    </tr>\n",
       "    <tr>\n",
       "      <th>5</th>\n",
       "      <td>POINT (-119.4399422 39.53570729999999)</td>\n",
       "      <td>Tesla Giga Nevada</td>\n",
       "      <td>Tesla Gigafactory 1, located in Sparks, Nevada...</td>\n",
       "      <td>-119.439942</td>\n",
       "      <td>39.535707</td>\n",
       "    </tr>\n",
       "    <tr>\n",
       "      <th>6</th>\n",
       "      <td>POINT (-83.84230749999999 33.6122481)</td>\n",
       "      <td>Ascend Elements</td>\n",
       "      <td>\"Inc.,Unspecified capacity, recycling process...</td>\n",
       "      <td>-83.842307</td>\n",
       "      <td>33.612248</td>\n",
       "    </tr>\n",
       "  </tbody>\n",
       "</table>\n",
       "</div>"
      ],
      "text/plain": [
       "                                      WKT  \\\n",
       "0   POINT (-77.67829119999999 43.1981518)   \n",
       "1  POINT (-111.7696764 32.87824409999999)   \n",
       "2   POINT (-95.46281119999999 29.7386312)   \n",
       "3          POINT (-119.7414856 39.204376)   \n",
       "4         POINT (-119.8217446 39.5242032)   \n",
       "5  POINT (-119.4399422 39.53570729999999)   \n",
       "6   POINT (-83.84230749999999 33.6122481)   \n",
       "\n",
       "                                  name  \\\n",
       "0              Li-Cycle New York Spoke   \n",
       "1              Quemetco Metals Ltd Inc   \n",
       "2                  ACE Green Recycling   \n",
       "3                    Redwood Materials   \n",
       "4  American Battery Technology Company   \n",
       "5                    Tesla Giga Nevada   \n",
       "6                      Ascend Elements   \n",
       "\n",
       "                                         description         lon        lat  \n",
       "0  Expects to use a hydrometallurgical process an...  -77.678291  43.198152  \n",
       "1  Quemetco Metals Ltd Inc - Ecobat. It will init... -111.769676  32.878244  \n",
       "2  https://www.acegreenrecycling.com/ It plans to...  -95.462811  29.738631  \n",
       "3  Unspecified capacity, up to 95% material recov... -119.741486  39.204376  \n",
       "4  https://americanbatterytechnology.com 20,000 t... -119.821745  39.524203  \n",
       "5  Tesla Gigafactory 1, located in Sparks, Nevada... -119.439942  39.535707  \n",
       "6   \"Inc.,Unspecified capacity, recycling process...  -83.842307  33.612248  "
      ]
     },
     "execution_count": 3,
     "metadata": {},
     "output_type": "execute_result"
    }
   ],
   "source": [
    "df[['lon', 'lat']] = df['WKT'].str.extract(r'POINT \\(([^ ]+) ([^)]+)\\)').astype(float)\n",
    "df"
   ]
  },
  {
   "cell_type": "code",
   "execution_count": 4,
   "metadata": {},
   "outputs": [],
   "source": [
    "df = df.drop(index=6)\n",
    "df = df.drop(index=0)"
   ]
  },
  {
   "cell_type": "code",
   "execution_count": 5,
   "metadata": {},
   "outputs": [],
   "source": [
    "X = df[['lat', 'lon']]\n",
    "\n",
    "scaler = StandardScaler()\n",
    "X_scaled = scaler.fit_transform(X)"
   ]
  },
  {
   "cell_type": "code",
   "execution_count": 6,
   "metadata": {},
   "outputs": [],
   "source": [
    "k_values = range(2, 5)\n",
    "silhouette_scores = []"
   ]
  },
  {
   "cell_type": "code",
   "execution_count": 7,
   "metadata": {},
   "outputs": [
    {
     "name": "stderr",
     "output_type": "stream",
     "text": [
      "c:\\Users\\kevin\\anaconda3\\Lib\\site-packages\\sklearn\\cluster\\_kmeans.py:1436: UserWarning: KMeans is known to have a memory leak on Windows with MKL, when there are less chunks than available threads. You can avoid it by setting the environment variable OMP_NUM_THREADS=1.\n",
      "  warnings.warn(\n",
      "c:\\Users\\kevin\\anaconda3\\Lib\\site-packages\\sklearn\\cluster\\_kmeans.py:1436: UserWarning: KMeans is known to have a memory leak on Windows with MKL, when there are less chunks than available threads. You can avoid it by setting the environment variable OMP_NUM_THREADS=1.\n",
      "  warnings.warn(\n",
      "c:\\Users\\kevin\\anaconda3\\Lib\\site-packages\\sklearn\\cluster\\_kmeans.py:1436: UserWarning: KMeans is known to have a memory leak on Windows with MKL, when there are less chunks than available threads. You can avoid it by setting the environment variable OMP_NUM_THREADS=1.\n",
      "  warnings.warn(\n"
     ]
    }
   ],
   "source": [
    "for k in k_values:\n",
    "    kmeans = KMeans(n_clusters=k, random_state=42, n_init=10)\n",
    "    cluster_labels = kmeans.fit_predict(X_scaled)\n",
    "    silhouette_scores.append(silhouette_score(X_scaled, cluster_labels))"
   ]
  },
  {
   "cell_type": "code",
   "execution_count": 8,
   "metadata": {},
   "outputs": [
    {
     "data": {
      "image/png": "[encoded data removed]",
      "text/plain": [
       "<Figure size 1000x600 with 1 Axes>"
      ]
     },
     "metadata": {},
     "output_type": "display_data"
    }
   ],
   "source": [
    "plt.figure(figsize=(10, 6))\n",
    "plt.plot(k_values, silhouette_scores, marker='o', linestyle='-')\n",
    "plt.xlabel('Número de Clusters (k)')\n",
    "plt.ylabel('Silhouette Score')\n",
    "plt.title('Knee Plot: Silhouette Score vs. Número de Clusters')\n",
    "plt.grid(True)\n",
    "plt.show()"
   ]
  },
  {
   "cell_type": "code",
   "execution_count": 9,
   "metadata": {},
   "outputs": [
    {
     "name": "stdout",
     "output_type": "stream",
     "text": [
      "Silhouette Score: 0.5774\n"
     ]
    },
    {
     "name": "stderr",
     "output_type": "stream",
     "text": [
      "c:\\Users\\kevin\\anaconda3\\Lib\\site-packages\\sklearn\\cluster\\_kmeans.py:1436: UserWarning: KMeans is known to have a memory leak on Windows with MKL, when there are less chunks than available threads. You can avoid it by setting the environment variable OMP_NUM_THREADS=1.\n",
      "  warnings.warn(\n"
     ]
    }
   ],
   "source": [
    "kmeans = KMeans(n_clusters=3, random_state=42, n_init=10)\n",
    "cluster_labels = kmeans.fit_predict(X)\n",
    "sil_score = silhouette_score(X, cluster_labels)\n",
    "print(f\"Silhouette Score: {sil_score:.4f}\")"
   ]
  },
  {
   "cell_type": "code",
   "execution_count": 10,
   "metadata": {},
   "outputs": [],
   "source": []
  }
 ],
 "metadata": {
  "kernelspec": {
   "display_name": "recicladora",
   "language": "python",
   "name": "python3"
  },
  "language_info": {
   "name": "python",
   "version": "3.12.9"
  }
 },
 "nbformat": 4,
 "nbformat_minor": 2
}
