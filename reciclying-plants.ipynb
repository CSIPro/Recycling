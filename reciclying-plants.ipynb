{
 "cells": [
  {
   "cell_type": "code",
   "execution_count": 2,
   "metadata": {},
   "outputs": [],
   "source": [
    "import pandas as pd"
   ]
  },
  {
   "cell_type": "code",
   "execution_count": null,
   "metadata": {},
   "outputs": [],
   "source": [
    "df = pd.read_csv(\"./db/lithium-reciclying-plants.csv\")\n",
    "df[['lon', 'lat']] = df['WKT'].str.extract(r'POINT \\(([^ ]+) ([^)]+)\\)').astype(float)\n"
   ]
  },
  {
   "cell_type": "code",
   "execution_count": 4,
   "metadata": {},
   "outputs": [
    {
     "data": {
      "application/vnd.microsoft.datawrangler.viewer.v0+json": {
       "columns": [
        {
         "name": "index",
         "rawType": "int64",
         "type": "integer"
        },
        {
         "name": "WKT",
         "rawType": "object",
         "type": "string"
        },
        {
         "name": "name",
         "rawType": "object",
         "type": "string"
        },
        {
         "name": "description",
         "rawType": "object",
         "type": "string"
        },
        {
         "name": "lat",
         "rawType": "float64",
         "type": "float"
        },
        {
         "name": "lon",
         "rawType": "float64",
         "type": "float"
        }
       ],
       "conversionMethod": "pd.DataFrame",
       "ref": "a1b917ff-881d-4bbf-a406-897f5fd7e1f0",
       "rows": [
        [
         "0",
         "POINT (-77.67829119999999 43.1981518)",
         "Li-Cycle New York Spoke",
         "Expects to use a hydrometallurgical process and serve as one of the largest sources of recycled lithium carbonate in North America. The facility is expected to process up to 35,000 tonnes of black mass per year. https://li-cycle.com/rochester-hub/",
         "-77.67829119999999",
         "43.1981518"
        ],
        [
         "1",
         "POINT (-111.7696764 32.87824409999999)",
         "Quemetco Metals Ltd Inc",
         "Quemetco Metals Ltd Inc - Ecobat.  It will initially produce around 10,000 tons of recycled material per year, with expansion plans to meet the growing demand for lithium-ion battery recycling.",
         "-111.7696764",
         "32.87824409999999"
        ],
        [
         "2",
         "POINT (-95.46281119999999 29.7386312)",
         "ACE Green Recycling",
         "https://www.acegreenrecycling.com/  It plans to establish a 400,000-square-foot facility capable of recycling both lead-acid and lithium-ion batteries. The plant is expected to be fully operational by 2025.",
         "-95.46281119999999",
         "29.7386312"
        ],
        [
         "3",
         "POINT (-119.7414856 39.204376)",
         "Redwood Materials",
         "Unspecified capacity, up to 95% material recovery.",
         "-119.7414856",
         "39.204376"
        ],
        [
         "4",
         "POINT (-119.8217446 39.5242032)",
         "American Battery Technology Company",
         "https://americanbatterytechnology.com 20,000 toneladas métricas/año",
         "-119.8217446",
         "39.5242032"
        ],
        [
         "5",
         "POINT (-119.4399422 39.53570729999999)",
         "Tesla Giga Nevada",
         "Tesla Gigafactory 1, located in Sparks, Nevada, USA. It is a massive battery manufacturing facility that produces lithium-ion battery cells and packs, primarily for Tesla's electric vehicles and energy storage products. This factory is a key part of Tesla’s supply chain and sustainability efforts, designed to scale up battery production and reduce costs through vertical integration. Battery Cells: Originally planned to reach 35 GWh per year, but with ongoing expansions, production capacity has increased beyond this figure. Tesla has not disclosed the exact current capacity. Battery Packs: Over 50 GWh per year, used for Tesla vehicles and energy storage solutions. Energy Storage Products: Powerwalls, Powerpacks, and Megapacks are also produced at this facility.",
         "-119.4399422",
         "39.53570729999999"
        ],
        [
         "6",
         "POINT (-83.84230749999999 33.6122481)",
         "Ascend Elements",
         " Inc.,Unspecified capacity, recycling process with cathode conversion",
         "-83.84230749999999",
         "33.6122481"
        ]
       ],
       "shape": {
        "columns": 5,
        "rows": 7
       }
      },
      "text/html": [
       "<div>\n",
       "<style scoped>\n",
       "    .dataframe tbody tr th:only-of-type {\n",
       "        vertical-align: middle;\n",
       "    }\n",
       "\n",
       "    .dataframe tbody tr th {\n",
       "        vertical-align: top;\n",
       "    }\n",
       "\n",
       "    .dataframe thead th {\n",
       "        text-align: right;\n",
       "    }\n",
       "</style>\n",
       "<table border=\"1\" class=\"dataframe\">\n",
       "  <thead>\n",
       "    <tr style=\"text-align: right;\">\n",
       "      <th></th>\n",
       "      <th>WKT</th>\n",
       "      <th>name</th>\n",
       "      <th>description</th>\n",
       "      <th>lat</th>\n",
       "      <th>lon</th>\n",
       "    </tr>\n",
       "  </thead>\n",
       "  <tbody>\n",
       "    <tr>\n",
       "      <th>0</th>\n",
       "      <td>POINT (-77.67829119999999 43.1981518)</td>\n",
       "      <td>Li-Cycle New York Spoke</td>\n",
       "      <td>Expects to use a hydrometallurgical process an...</td>\n",
       "      <td>-77.678291</td>\n",
       "      <td>43.198152</td>\n",
       "    </tr>\n",
       "    <tr>\n",
       "      <th>1</th>\n",
       "      <td>POINT (-111.7696764 32.87824409999999)</td>\n",
       "      <td>Quemetco Metals Ltd Inc</td>\n",
       "      <td>Quemetco Metals Ltd Inc - Ecobat.  It will ini...</td>\n",
       "      <td>-111.769676</td>\n",
       "      <td>32.878244</td>\n",
       "    </tr>\n",
       "    <tr>\n",
       "      <th>2</th>\n",
       "      <td>POINT (-95.46281119999999 29.7386312)</td>\n",
       "      <td>ACE Green Recycling</td>\n",
       "      <td>https://www.acegreenrecycling.com/  It plans t...</td>\n",
       "      <td>-95.462811</td>\n",
       "      <td>29.738631</td>\n",
       "    </tr>\n",
       "    <tr>\n",
       "      <th>3</th>\n",
       "      <td>POINT (-119.7414856 39.204376)</td>\n",
       "      <td>Redwood Materials</td>\n",
       "      <td>Unspecified capacity, up to 95% material recov...</td>\n",
       "      <td>-119.741486</td>\n",
       "      <td>39.204376</td>\n",
       "    </tr>\n",
       "    <tr>\n",
       "      <th>4</th>\n",
       "      <td>POINT (-119.8217446 39.5242032)</td>\n",
       "      <td>American Battery Technology Company</td>\n",
       "      <td>https://americanbatterytechnology.com 20,000 t...</td>\n",
       "      <td>-119.821745</td>\n",
       "      <td>39.524203</td>\n",
       "    </tr>\n",
       "    <tr>\n",
       "      <th>5</th>\n",
       "      <td>POINT (-119.4399422 39.53570729999999)</td>\n",
       "      <td>Tesla Giga Nevada</td>\n",
       "      <td>Tesla Gigafactory 1, located in Sparks, Nevada...</td>\n",
       "      <td>-119.439942</td>\n",
       "      <td>39.535707</td>\n",
       "    </tr>\n",
       "    <tr>\n",
       "      <th>6</th>\n",
       "      <td>POINT (-83.84230749999999 33.6122481)</td>\n",
       "      <td>Ascend Elements</td>\n",
       "      <td>Inc.,Unspecified capacity, recycling process ...</td>\n",
       "      <td>-83.842307</td>\n",
       "      <td>33.612248</td>\n",
       "    </tr>\n",
       "  </tbody>\n",
       "</table>\n",
       "</div>"
      ],
      "text/plain": [
       "                                      WKT  \\\n",
       "0   POINT (-77.67829119999999 43.1981518)   \n",
       "1  POINT (-111.7696764 32.87824409999999)   \n",
       "2   POINT (-95.46281119999999 29.7386312)   \n",
       "3          POINT (-119.7414856 39.204376)   \n",
       "4         POINT (-119.8217446 39.5242032)   \n",
       "5  POINT (-119.4399422 39.53570729999999)   \n",
       "6   POINT (-83.84230749999999 33.6122481)   \n",
       "\n",
       "                                  name  \\\n",
       "0              Li-Cycle New York Spoke   \n",
       "1              Quemetco Metals Ltd Inc   \n",
       "2                  ACE Green Recycling   \n",
       "3                    Redwood Materials   \n",
       "4  American Battery Technology Company   \n",
       "5                    Tesla Giga Nevada   \n",
       "6                      Ascend Elements   \n",
       "\n",
       "                                         description         lat        lon  \n",
       "0  Expects to use a hydrometallurgical process an...  -77.678291  43.198152  \n",
       "1  Quemetco Metals Ltd Inc - Ecobat.  It will ini... -111.769676  32.878244  \n",
       "2  https://www.acegreenrecycling.com/  It plans t...  -95.462811  29.738631  \n",
       "3  Unspecified capacity, up to 95% material recov... -119.741486  39.204376  \n",
       "4  https://americanbatterytechnology.com 20,000 t... -119.821745  39.524203  \n",
       "5  Tesla Gigafactory 1, located in Sparks, Nevada... -119.439942  39.535707  \n",
       "6   Inc.,Unspecified capacity, recycling process ...  -83.842307  33.612248  "
      ]
     },
     "execution_count": 4,
     "metadata": {},
     "output_type": "execute_result"
    }
   ],
   "source": [
    "df"
   ]
  }
 ],
 "metadata": {
  "kernelspec": {
   "display_name": "recicladora",
   "language": "python",
   "name": "python3"
  },
  "language_info": {
   "codemirror_mode": {
    "name": "ipython",
    "version": 3
   },
   "file_extension": ".py",
   "mimetype": "text/x-python",
   "name": "python",
   "nbconvert_exporter": "python",
   "pygments_lexer": "ipython3",
   "version": "3.12.9"
  }
 },
 "nbformat": 4,
 "nbformat_minor": 2
}
